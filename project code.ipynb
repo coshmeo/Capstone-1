{
 "cells": [
  {
   "cell_type": "markdown",
   "metadata": {},
   "source": [
    "# Capstone 1 Report"
   ]
  },
  {
   "cell_type": "markdown",
   "metadata": {},
   "source": [
    "## Preliminaries"
   ]
  },
  {
   "cell_type": "markdown",
   "metadata": {},
   "source": [
    "### Import packages"
   ]
  },
  {
   "cell_type": "code",
   "execution_count": 1,
   "metadata": {},
   "outputs": [],
   "source": [
    "import numpy as np\n",
    "import pandas as pd\n",
    "import matplotlib.pyplot as plt\n",
    "import matplotlib.patches as mpatches\n",
    "import seaborn as sns\n",
    "from scipy import stats"
   ]
  },
  {
   "cell_type": "markdown",
   "metadata": {},
   "source": [
    "### Load dataset"
   ]
  },
  {
   "cell_type": "code",
   "execution_count": 2,
   "metadata": {},
   "outputs": [],
   "source": [
    "df = pd.read_csv('UCI_Credit_Card.csv')"
   ]
  },
  {
   "cell_type": "markdown",
   "metadata": {},
   "source": [
    "## Data Wrangling"
   ]
  },
  {
   "cell_type": "markdown",
   "metadata": {},
   "source": [
    "### SEX\n",
    "Change values of sex column to 0 & 1"
   ]
  },
  {
   "cell_type": "code",
   "execution_count": 3,
   "metadata": {},
   "outputs": [],
   "source": [
    "df.SEX.replace({1:0, 2:1}, inplace=True)"
   ]
  },
  {
   "cell_type": "markdown",
   "metadata": {},
   "source": [
    "### EDUCATION\n",
    "Change unlabeled data in education to 'Other'"
   ]
  },
  {
   "cell_type": "code",
   "execution_count": 4,
   "metadata": {},
   "outputs": [],
   "source": [
    "fil = (df.EDUCATION == 5) | (df.EDUCATION == 6) | (df.EDUCATION == 0)\n",
    "df.loc[fil, 'EDUCATION'] = 4"
   ]
  },
  {
   "cell_type": "markdown",
   "metadata": {},
   "source": [
    "### MARRIAGE\n",
    "Change unlabeled data in marriage to 'Other'"
   ]
  },
  {
   "cell_type": "code",
   "execution_count": 5,
   "metadata": {},
   "outputs": [],
   "source": [
    "fil = (df.MARRIAGE == 0)\n",
    "df.loc[fil, 'MARRIAGE'] = 3"
   ]
  },
  {
   "cell_type": "markdown",
   "metadata": {},
   "source": [
    "### Pay Data <i>(PAY_0 - PAY_6, BILL_AMT1 - BILL_AMT6, PAY_AMT1 - PAY_AMT6)</i>"
   ]
  },
  {
   "cell_type": "markdown",
   "metadata": {},
   "source": [
    "#### PAY_1 - PAY_6\n",
    "Change pay status columns to 0 (payment) or 1 (no payment) & rename pay status, bill amount, and pay amount for clarity"
   ]
  },
  {
   "cell_type": "code",
   "execution_count": 6,
   "metadata": {},
   "outputs": [],
   "source": [
    "#Repayment status, 9/2005\n",
    "fil = (df.PAY_0 > 0) \n",
    "df.loc[fil, 'PAY_0'] = 1\n",
    "\n",
    "fil = (df.PAY_0 <= 0) \n",
    "df.loc[fil, 'PAY_0'] = 0\n",
    "\n",
    "#Repayment status, 8/2005\n",
    "fil = (df.PAY_2 > 0)\n",
    "df.loc[fil, 'PAY_2'] = 1\n",
    "\n",
    "fil = (df.PAY_2 <= 0)\n",
    "df.loc[fil, 'PAY_2'] = 0\n",
    "\n",
    "#Repayment status, 7/2005\n",
    "fil = (df.PAY_3 > 0)\n",
    "df.loc[fil, 'PAY_3'] = 1\n",
    "\n",
    "fil = (df.PAY_3 <= 0)\n",
    "df.loc[fil, 'PAY_3'] = 0\n",
    "\n",
    "#Repayment status, 6/2005\n",
    "fil = (df.PAY_4 > 0)\n",
    "df.loc[fil, 'PAY_4'] = 1\n",
    "\n",
    "fil = (df.PAY_4 <= 0)\n",
    "df.loc[fil, 'PAY_4'] = 0\n",
    "\n",
    "#Repayment status, 5/2005\n",
    "fil = (df.PAY_5 > 0)\n",
    "df.loc[fil, 'PAY_5'] = 1\n",
    "\n",
    "fil = (df.PAY_5 <= 0)\n",
    "df.loc[fil, 'PAY_5'] = 0\n",
    "\n",
    "#Repayment status, 4/2005\n",
    "fil = (df.PAY_6 > 0)\n",
    "df.loc[fil, 'PAY_6'] = 1\n",
    "\n",
    "fil = (df.PAY_6 <= 0)\n",
    "df.loc[fil, 'PAY_6'] = 0\n",
    "\n",
    "#Rename columns to match months (4 - 9)\n",
    "df.rename(index = str, columns = {'PAY_0': 'PAY_9', 'PAY_2': 'PAY_8', 'PAY_3': 'PAY_7',\n",
    "                                  'PAY_4': 'PAY_6', 'PAY_6': 'PAY_4',\n",
    "                                 'BILL_AMT1': 'BILL_AMT9', 'BILL_AMT2': 'BILL_AMT8',\n",
    "                                 'BILL_AMT3': 'BILL_AMT7', 'BILL_AMT4': 'BILL_AMT6',\n",
    "                                 'BILL_AMT6': 'BILL_AMT4',\n",
    "                                 'PAY_AMT1': 'PAY_AMT9', 'PAY_AMT2': 'PAY_AMT8',\n",
    "                                  'PAY_AMT3': 'PAY_AMT7', 'PAY_AMT4': 'PAY_AMT6', \n",
    "                                 'PAY_AMT6': 'PAY_AMT4'}, inplace = True)"
   ]
  },
  {
   "cell_type": "markdown",
   "metadata": {},
   "source": [
    "## Exploratory Data Analysis"
   ]
  },
  {
   "cell_type": "markdown",
   "metadata": {},
   "source": [
    "### Default data"
   ]
  },
  {
   "cell_type": "code",
   "execution_count": 7,
   "metadata": {},
   "outputs": [
    {
     "data": {
      "image/png": "[encoded data removed]",
      "text/plain": [
       "<Figure size 432x288 with 1 Axes>"
      ]
     },
     "metadata": {
      "needs_background": "light"
     },
     "output_type": "display_data"
    },
    {
     "name": "stdout",
     "output_type": "stream",
     "text": [
      "Percentage of total defaults\n",
      "0.2212\n"
     ]
    }
   ],
   "source": [
    "#shorten default column name\n",
    "df.rename(index = str, columns ={'default.payment.next.month': 'default'}, inplace = True)\n",
    "\n",
    "#set the number of ticks based on the number of different values in the series\n",
    "x=np.arange(len(df['default'].unique()))\n",
    "\n",
    "#Describe default.payment.next.month\n",
    "plt.bar(x,df['default'].value_counts().sort_index())\n",
    "plt.ylabel('Count')\n",
    "plt.xticks(x,('No Default','Default'))\n",
    "plt.title('Default Distribution')\n",
    "plt.show()\n",
    "\n",
    "#show statistics\n",
    "print('Percentage of total defaults')\n",
    "print(df['default'].mean())"
   ]
  },
  {
   "cell_type": "markdown",
   "metadata": {},
   "source": [
    "### Sex data"
   ]
  },
  {
   "cell_type": "code",
   "execution_count": 8,
   "metadata": {
    "scrolled": false
   },
   "outputs": [
    {
     "data": {
      "image/png": "[encoded data removed]",
      "text/plain": [
       "<Figure size 432x288 with 1 Axes>"
      ]
     },
     "metadata": {
      "needs_background": "light"
     },
     "output_type": "display_data"
    },
    {
     "name": "stdout",
     "output_type": "stream",
     "text": [
      "percent of female clients\n",
      "0.6037333333333333\n"
     ]
    },
    {
     "data": {
      "image/png": "[encoded data removed]",
      "text/plain": [
       "<Figure size 432x288 with 1 Axes>"
      ]
     },
     "metadata": {
      "needs_background": "light"
     },
     "output_type": "display_data"
    },
    {
     "name": "stdout",
     "output_type": "stream",
     "text": [
      "male & female default rates\n",
      "SEX\n",
      "0    0.241672\n",
      "1    0.207763\n",
      "Name: default, dtype: float64\n"
     ]
    }
   ],
   "source": [
    "#plot sex distribution\n",
    "#set the number of ticks based on the number of different values in the series\n",
    "x=np.arange(len(df['SEX'].unique()))\n",
    "\n",
    "#make bar plot of value counts\n",
    "plt.bar(x,df['SEX'].value_counts().sort_index())\n",
    "\n",
    "#label the axes and add title\n",
    "plt.ylabel('Count')\n",
    "plt.xticks(x,('Male','Female'))\n",
    "plt.title('Sex Distribution')\n",
    "\n",
    "#show plot\n",
    "plt.show()\n",
    "\n",
    "#useful statistics\n",
    "print('percent of female clients')\n",
    "print(df['SEX'].mean())\n",
    "\n",
    "#plot percent default by sex\n",
    "#calulate the percent default for each category\n",
    "defaults_by_sex=df.groupby('SEX')['default'].mean()\n",
    "\n",
    "#Create the barplot\n",
    "plt.bar(x,defaults_by_sex)\n",
    "\n",
    "#label the axes and add title\n",
    "plt.ylabel('Percent Default')\n",
    "plt.xticks(x,('Male','Female'))\n",
    "plt.title('Percent Default by Sex')\n",
    "\n",
    "#show plot\n",
    "plt.show()\n",
    "\n",
    "#useful statistics\n",
    "print('male & female default rates')\n",
    "print(defaults_by_sex)"
   ]
  },
  {
   "cell_type": "code",
   "execution_count": 9,
   "metadata": {},
   "outputs": [
    {
     "data": {
      "text/plain": [
       "(47.70879689062111, 4.944678999412044e-12, 1, array([[ 9258.3744,  2629.6256],\n",
       "        [14105.6256,  4006.3744]]))"
      ]
     },
     "execution_count": 9,
     "metadata": {},
     "output_type": "execute_result"
    }
   ],
   "source": [
    "stats.chi2_contingency(pd.crosstab(df['SEX'],df['default']))"
   ]
  },
  {
   "cell_type": "markdown",
   "metadata": {},
   "source": [
    "### Education data"
   ]
  },
  {
   "cell_type": "code",
   "execution_count": 10,
   "metadata": {},
   "outputs": [
    {
     "data": {
      "image/png": "[encoded data removed]",
      "text/plain": [
       "<Figure size 432x288 with 1 Axes>"
      ]
     },
     "metadata": {
      "needs_background": "light"
     },
     "output_type": "display_data"
    },
    {
     "name": "stdout",
     "output_type": "stream",
     "text": [
      "percent of population\n",
      "1    0.352833\n",
      "2    0.467667\n",
      "3    0.163900\n",
      "4    0.015600\n",
      "Name: EDUCATION, dtype: float64\n"
     ]
    },
    {
     "data": {
      "image/png": "[encoded data removed]",
      "text/plain": [
       "<Figure size 432x288 with 1 Axes>"
      ]
     },
     "metadata": {
      "needs_background": "light"
     },
     "output_type": "display_data"
    },
    {
     "name": "stdout",
     "output_type": "stream",
     "text": [
      "percent defualt by education level\n",
      "EDUCATION\n",
      "1    0.192348\n",
      "2    0.237349\n",
      "3    0.251576\n",
      "4    0.070513\n",
      "Name: default, dtype: float64\n"
     ]
    }
   ],
   "source": [
    "#plot education distribution\n",
    "#set the number of ticks based on the number of different values in the series\n",
    "x=np.arange(len(df['EDUCATION'].unique()))\n",
    "\n",
    "#Make bar plot of value counts\n",
    "plt.bar(x,df['EDUCATION'].value_counts().sort_index())\n",
    "\n",
    "#label axes and add title\n",
    "plt.ylabel('Count')\n",
    "plt.xticks(x,('Graduate School','University','High School','Other'), rotation=45)\n",
    "plt.title('Education Distribution')\n",
    "\n",
    "#show plot\n",
    "plt.show()\n",
    "\n",
    "#useful statistics\n",
    "print('percent of population')\n",
    "print(df['EDUCATION'].value_counts().sort_index()/len(df.index))\n",
    "\n",
    "#plot percent default by education\n",
    "#count the number of defaults for each category\n",
    "defaults_by_education=df.groupby('EDUCATION')['default'].mean()\n",
    "\n",
    "#Make bar plot\n",
    "plt.bar(x,defaults_by_education)\n",
    "\n",
    "#label axes and add title\n",
    "plt.ylabel('Percent Default')\n",
    "plt.xticks(x,('Graduate School','University','High School','Other'),rotation=45)\n",
    "plt.title('Percent Default by Education')\n",
    "\n",
    "#show plot\n",
    "plt.show()\n",
    "\n",
    "#useful statistics\n",
    "print('percent defualt by education level')\n",
    "print(defaults_by_education)"
   ]
  },
  {
   "cell_type": "code",
   "execution_count": 11,
   "metadata": {},
   "outputs": [
    {
     "data": {
      "text/plain": [
       "(160.40995107224546,\n",
       " 1.4950645648106153e-34,\n",
       " 3,\n",
       " array([[ 8243.598 ,  2341.402 ],\n",
       "        [10926.564 ,  3103.436 ],\n",
       "        [ 3829.3596,  1087.6404],\n",
       "        [  364.4784,   103.5216]]))"
      ]
     },
     "execution_count": 11,
     "metadata": {},
     "output_type": "execute_result"
    }
   ],
   "source": [
    "stats.chi2_contingency(pd.crosstab(df['EDUCATION'],df['default']))"
   ]
  },
  {
   "cell_type": "markdown",
   "metadata": {},
   "source": [
    "### Marriage data"
   ]
  },
  {
   "cell_type": "code",
   "execution_count": 12,
   "metadata": {
    "scrolled": false
   },
   "outputs": [
    {
     "data": {
      "image/png": "[encoded data removed]",
      "text/plain": [
       "<Figure size 432x288 with 1 Axes>"
      ]
     },
     "metadata": {
      "needs_background": "light"
     },
     "output_type": "display_data"
    },
    {
     "name": "stdout",
     "output_type": "stream",
     "text": [
      "percent of population\n",
      "1    0.455300\n",
      "2    0.532133\n",
      "3    0.012567\n",
      "Name: MARRIAGE, dtype: float64\n"
     ]
    },
    {
     "data": {
      "image/png": "[encoded data removed]",
      "text/plain": [
       "<Figure size 432x288 with 1 Axes>"
      ]
     },
     "metadata": {
      "needs_background": "light"
     },
     "output_type": "display_data"
    },
    {
     "name": "stdout",
     "output_type": "stream",
     "text": [
      "percent default by marital status\n",
      "MARRIAGE\n",
      "1    0.234717\n",
      "2    0.209283\n",
      "3    0.236074\n",
      "Name: default, dtype: float64\n"
     ]
    }
   ],
   "source": [
    "#plot marital status distribution\n",
    "#set the number of ticks based on the number of different values in the series\n",
    "x=np.arange(len(df['MARRIAGE'].unique()))\n",
    "\n",
    "#Make barplot of value counts\n",
    "plt.bar(x,df['MARRIAGE'].value_counts().sort_index())\n",
    "\n",
    "#add labels and title\n",
    "plt.ylabel('Count')\n",
    "plt.xticks(x,('Married','Single','Other'))\n",
    "plt.title('Marital Status Distribution')\n",
    "\n",
    "#show plot\n",
    "plt.show()\n",
    "\n",
    "#useful statistics\n",
    "print('percent of population')\n",
    "print(df['MARRIAGE'].value_counts().sort_index() / len(df.index))\n",
    "\n",
    "#plot percent default by marital status\n",
    "#count the number of defaults for each category\n",
    "average_defaults_by_marriage=df.groupby('MARRIAGE')['default'].mean()\n",
    "\n",
    "#make barplot\n",
    "plt.bar(x,average_defaults_by_marriage)\n",
    "\n",
    "#add labels and title\n",
    "plt.ylabel('Percent Default')\n",
    "plt.xticks(x,('Married','Single','Other'))\n",
    "plt.title('Percent Default by Marital Status')\n",
    "\n",
    "#show plot\n",
    "plt.show()\n",
    "\n",
    "#useful statistics\n",
    "print('percent default by marital status')\n",
    "print(average_defaults_by_marriage)"
   ]
  },
  {
   "cell_type": "code",
   "execution_count": 13,
   "metadata": {},
   "outputs": [
    {
     "data": {
      "text/plain": [
       "(28.13032464482199, 7.790720364202813e-07, 2, array([[10637.6292,  3021.3708],\n",
       "        [12432.7632,  3531.2368],\n",
       "        [  293.6076,    83.3924]]))"
      ]
     },
     "execution_count": 13,
     "metadata": {},
     "output_type": "execute_result"
    }
   ],
   "source": [
    "stats.chi2_contingency(pd.crosstab(df['MARRIAGE'],df['default']))"
   ]
  },
  {
   "cell_type": "markdown",
   "metadata": {},
   "source": [
    "### Age data"
   ]
  },
  {
   "cell_type": "code",
   "execution_count": 14,
   "metadata": {},
   "outputs": [
    {
     "data": {
      "image/png": "[encoded data removed]",
      "text/plain": [
       "<Figure size 432x288 with 1 Axes>"
      ]
     },
     "metadata": {
      "needs_background": "light"
     },
     "output_type": "display_data"
    },
    {
     "data": {
      "image/png": "[encoded data removed]",
      "text/plain": [
       "<Figure size 432x288 with 1 Axes>"
      ]
     },
     "metadata": {
      "needs_background": "light"
     },
     "output_type": "display_data"
    }
   ],
   "source": [
    "#define variables for default & no default\n",
    "default_age = df[df['default'] == 1]['AGE']\n",
    "no_default_age = df[df['default'] == 0]['AGE']\n",
    "\n",
    "#Make historgram of age\n",
    "plt.hist([default_age, no_default_age], bins = 20, color = ['red', 'green'],\n",
    "        alpha = 0.6)\n",
    "\n",
    "#add labels and title\n",
    "plt.xlabel('Age')\n",
    "plt.ylabel('Count')\n",
    "plt.title('Age Distribution')\n",
    "\n",
    "#add legend\n",
    "red_patch = mpatches.Patch(color='red', label='Default')\n",
    "green_patch = mpatches.Patch(color = 'green', label = 'No Default')\n",
    "plt.legend(handles=[red_patch, green_patch])\n",
    "\n",
    "#show plot\n",
    "plt.show()\n",
    "\n",
    "#mean default by age\n",
    "default_by_age=pd.DataFrame(df.groupby(['AGE'])['default'].mean())\n",
    "default_by_age.plot(title='average default by age', color = 'red', alpha = 0.6)\n",
    "plt.ylabel('Mean Default')\n",
    "plt.xlabel('Age')\n",
    "plt.title('Percent Default by Age')\n",
    "plt.show()"
   ]
  },
  {
   "cell_type": "code",
   "execution_count": 15,
   "metadata": {},
   "outputs": [
    {
     "data": {
      "text/plain": [
       "Ttest_indResult(statistic=-2.40594177499625, pvalue=0.016136845890163835)"
      ]
     },
     "execution_count": 15,
     "metadata": {},
     "output_type": "execute_result"
    }
   ],
   "source": [
    "rvs0 = df[df['default']==0]['AGE']\n",
    "rvs1 = df[df['default']==1]['AGE']\n",
    "\n",
    "stats.ttest_ind(rvs0,rvs1)"
   ]
  },
  {
   "cell_type": "markdown",
   "metadata": {},
   "source": [
    "### Credit limit data"
   ]
  },
  {
   "cell_type": "code",
   "execution_count": 16,
   "metadata": {},
   "outputs": [
    {
     "data": {
      "image/png": "[encoded data removed]",
      "text/plain": [
       "<Figure size 432x288 with 1 Axes>"
      ]
     },
     "metadata": {
      "needs_background": "light"
     },
     "output_type": "display_data"
    },
    {
     "data": {
      "text/html": [
       "<div>\n",
       "<style scoped>\n",
       "    .dataframe tbody tr th:only-of-type {\n",
       "        vertical-align: middle;\n",
       "    }\n",
       "\n",
       "    .dataframe tbody tr th {\n",
       "        vertical-align: top;\n",
       "    }\n",
       "\n",
       "    .dataframe thead th {\n",
       "        text-align: right;\n",
       "    }\n",
       "</style>\n",
       "<table border=\"1\" class=\"dataframe\">\n",
       "  <thead>\n",
       "    <tr style=\"text-align: right;\">\n",
       "      <th></th>\n",
       "      <th>count</th>\n",
       "      <th>mean</th>\n",
       "      <th>std</th>\n",
       "      <th>min</th>\n",
       "      <th>25%</th>\n",
       "      <th>50%</th>\n",
       "      <th>75%</th>\n",
       "      <th>max</th>\n",
       "    </tr>\n",
       "    <tr>\n",
       "      <th>default</th>\n",
       "      <th></th>\n",
       "      <th></th>\n",
       "      <th></th>\n",
       "      <th></th>\n",
       "      <th></th>\n",
       "      <th></th>\n",
       "      <th></th>\n",
       "      <th></th>\n",
       "    </tr>\n",
       "  </thead>\n",
       "  <tbody>\n",
       "    <tr>\n",
       "      <th>0</th>\n",
       "      <td>23364.0</td>\n",
       "      <td>178099.726074</td>\n",
       "      <td>131628.359660</td>\n",
       "      <td>10000.0</td>\n",
       "      <td>70000.0</td>\n",
       "      <td>150000.0</td>\n",
       "      <td>250000.0</td>\n",
       "      <td>1000000.0</td>\n",
       "    </tr>\n",
       "    <tr>\n",
       "      <th>1</th>\n",
       "      <td>6636.0</td>\n",
       "      <td>130109.656420</td>\n",
       "      <td>115378.540571</td>\n",
       "      <td>10000.0</td>\n",
       "      <td>50000.0</td>\n",
       "      <td>90000.0</td>\n",
       "      <td>200000.0</td>\n",
       "      <td>740000.0</td>\n",
       "    </tr>\n",
       "  </tbody>\n",
       "</table>\n",
       "</div>"
      ],
      "text/plain": [
       "           count           mean            std      min      25%       50%  \\\n",
       "default                                                                      \n",
       "0        23364.0  178099.726074  131628.359660  10000.0  70000.0  150000.0   \n",
       "1         6636.0  130109.656420  115378.540571  10000.0  50000.0   90000.0   \n",
       "\n",
       "              75%        max  \n",
       "default                       \n",
       "0        250000.0  1000000.0  \n",
       "1        200000.0   740000.0  "
      ]
     },
     "execution_count": 16,
     "metadata": {},
     "output_type": "execute_result"
    }
   ],
   "source": [
    "#define variables for default & no default\n",
    "default_limit_bal = df[df['default'] == 1]['LIMIT_BAL']\n",
    "no_default_limit_bal = df[df['default'] == 0]['LIMIT_BAL']\n",
    "\n",
    "#create plot\n",
    "plt.hist([default_limit_bal, no_default_limit_bal], bins = 25, color = ['red', 'green'],\n",
    "         alpha = 0.6)\n",
    "\n",
    "#add lables and change scale\n",
    "plt.yscale('log')\n",
    "plt.ylabel('Count')\n",
    "plt.xlabel('Credit Limit')\n",
    "plt.title('Credit Limit Distribution')\n",
    "\n",
    "#add legend\n",
    "red_patch = mpatches.Patch(color='red', label='Default')\n",
    "green_patch = mpatches.Patch(color = 'green', label = 'No Default')\n",
    "plt.legend(handles=[red_patch, green_patch])\n",
    "\n",
    "plt.show()\n",
    "\n",
    "#show summary statistics\n",
    "df.groupby('default')['LIMIT_BAL'].describe()"
   ]
  },
  {
   "cell_type": "code",
   "execution_count": 17,
   "metadata": {},
   "outputs": [
    {
     "data": {
      "text/plain": [
       "Ttest_indResult(statistic=26.908521684796522, pvalue=1.3022439532597397e-157)"
      ]
     },
     "execution_count": 17,
     "metadata": {},
     "output_type": "execute_result"
    }
   ],
   "source": [
    "rvs0 = df[df['default']==0]['LIMIT_BAL']\n",
    "rvs1 = df[df['default']==1]['LIMIT_BAL']\n",
    "\n",
    "stats.ttest_ind(rvs0,rvs1)"
   ]
  },
  {
   "cell_type": "markdown",
   "metadata": {},
   "source": [
    "### Pay data (September, 2005)\n",
    "#### Pay Status"
   ]
  },
  {
   "cell_type": "code",
   "execution_count": 18,
   "metadata": {},
   "outputs": [
    {
     "data": {
      "image/png": "[encoded data removed]",
      "text/plain": [
       "<Figure size 432x288 with 1 Axes>"
      ]
     },
     "metadata": {
      "needs_background": "light"
     },
     "output_type": "display_data"
    },
    {
     "name": "stdout",
     "output_type": "stream",
     "text": [
      "percent default by payment status\n",
      "PAY_9\n",
      "0    0.138340\n",
      "1    0.502933\n",
      "Name: default, dtype: float64\n"
     ]
    }
   ],
   "source": [
    "#set the number of ticks based on the number of different values in the series\n",
    "x=np.arange(len(df['PAY_9'].unique()))\n",
    "\n",
    "#calulate the percent default for each category\n",
    "defaults_by_pay_status9 = df.groupby('PAY_9')['default'].mean()\n",
    "\n",
    "#make bar plot\n",
    "plt.bar(x,defaults_by_pay_status9)\n",
    "\n",
    "#add labels and title\n",
    "plt.ylabel('Percent Default')\n",
    "plt.xticks(x,('Payment','No Payment'))\n",
    "plt.title('Percent Default by Repayment status in September, 2005')\n",
    "\n",
    "#show plot\n",
    "plt.show()\n",
    "\n",
    "#useful statistics\n",
    "print('percent default by payment status')\n",
    "print(defaults_by_pay_status9)"
   ]
  },
  {
   "cell_type": "markdown",
   "metadata": {},
   "source": [
    "#### Bill Amount"
   ]
  },
  {
   "cell_type": "code",
   "execution_count": 19,
   "metadata": {},
   "outputs": [
    {
     "data": {
      "image/png": "[encoded data removed]",
      "text/plain": [
       "<Figure size 432x288 with 1 Axes>"
      ]
     },
     "metadata": {
      "needs_background": "light"
     },
     "output_type": "display_data"
    },
    {
     "name": "stdout",
     "output_type": "stream",
     "text": [
      "average bill amount for clients who defaulted\n",
      "48509.162296564195\n"
     ]
    }
   ],
   "source": [
    "#define variables for default & no default\n",
    "default_bill_amt9 = df[df['default'] == 1]['BILL_AMT9']\n",
    "no_default_bill_amt9 = df[df['default'] == 0]['BILL_AMT9']\n",
    "\n",
    "#make histogram of bill amounts for 9/2005\n",
    "plt.hist([default_bill_amt9, no_default_bill_amt9],bins=20, color = ['red', 'green'],\n",
    "        alpha = 0.6)\n",
    "\n",
    "#set y scale to log to better display values\n",
    "plt.yscale('log')\n",
    "\n",
    "#add lables and title\n",
    "plt.xlabel('Bill Amount')\n",
    "plt.ylabel('Count')\n",
    "plt.title('Default by Bill Amount, September, 2005')\n",
    "\n",
    "#add legend\n",
    "red_patch = mpatches.Patch(color='red', label='Default')\n",
    "green_patch = mpatches.Patch(color = 'green', label = 'No Default')\n",
    "plt.legend(handles=[red_patch, green_patch])\n",
    "\n",
    "#show plot\n",
    "plt.show()\n",
    "\n",
    "#useful statistics\n",
    "print('average bill amount for clients who defaulted')\n",
    "print(np.mean(default_bill_amt9))"
   ]
  },
  {
   "cell_type": "code",
   "execution_count": 20,
   "metadata": {},
   "outputs": [
    {
     "data": {
      "text/plain": [
       "Ttest_indResult(statistic=3.403018001170964, pvalue=0.0006673295491221741)"
      ]
     },
     "execution_count": 20,
     "metadata": {},
     "output_type": "execute_result"
    }
   ],
   "source": [
    "rvs0 = df[df['default']==0]['BILL_AMT9']\n",
    "rvs1 = df[df['default']==1]['BILL_AMT9']\n",
    "\n",
    "stats.ttest_ind(rvs0,rvs1)"
   ]
  },
  {
   "cell_type": "markdown",
   "metadata": {},
   "source": [
    "#### Pay Amount"
   ]
  },
  {
   "cell_type": "code",
   "execution_count": 21,
   "metadata": {},
   "outputs": [
    {
     "data": {
      "image/png": "[encoded data removed]",
      "text/plain": [
       "<Figure size 432x288 with 1 Axes>"
      ]
     },
     "metadata": {
      "needs_background": "light"
     },
     "output_type": "display_data"
    },
    {
     "name": "stdout",
     "output_type": "stream",
     "text": [
      "average payment amount for clients who defaulted\n",
      "3397.0441531042798\n"
     ]
    }
   ],
   "source": [
    "#define variables for default & no default\n",
    "default_pay_amt9 = df[df['default'] == 1]['PAY_AMT9']\n",
    "no_default_pay_amt9 = df[df['default'] == 0]['PAY_AMT9']\n",
    "\n",
    "#make histogram of previous month pay amounts for 9/2005\n",
    "plt.hist([default_pay_amt9, no_default_pay_amt9],bins=20, color = ['red', 'green'],\n",
    "        alpha = 0.6)\n",
    "\n",
    "#set y scale to log for visual clarity\n",
    "plt.yscale('log')\n",
    "\n",
    "#add labels and title\n",
    "plt.xlabel('Pay Amount')\n",
    "plt.ylabel('Count')\n",
    "plt.title('Default by Previous Month Pay Amount, September, 2005')\n",
    "\n",
    "#add legend\n",
    "red_patch = mpatches.Patch(color='red', label='Default')\n",
    "green_patch = mpatches.Patch(color = 'green', label = 'No Default')\n",
    "plt.legend(handles=[red_patch, green_patch])\n",
    "\n",
    "#show plot\n",
    "plt.show()\n",
    "\n",
    "#useful statistics\n",
    "print('average payment amount for clients who defaulted')\n",
    "print(np.mean(default_pay_amt9))"
   ]
  },
  {
   "cell_type": "code",
   "execution_count": 22,
   "metadata": {},
   "outputs": [
    {
     "data": {
      "text/plain": [
       "Ttest_indResult(statistic=12.665062557364722, pvalue=1.1464876142241624e-36)"
      ]
     },
     "execution_count": 22,
     "metadata": {},
     "output_type": "execute_result"
    }
   ],
   "source": [
    "rvs0 = df[df['default']==0]['PAY_AMT9']\n",
    "rvs1 = df[df['default']==1]['PAY_AMT9']\n",
    "\n",
    "stats.ttest_ind(rvs0,rvs1)"
   ]
  },
  {
   "cell_type": "markdown",
   "metadata": {},
   "source": [
    "### Pay data (August, 2005)\n",
    "#### Pay Status"
   ]
  },
  {
   "cell_type": "code",
   "execution_count": 23,
   "metadata": {},
   "outputs": [
    {
     "data": {
      "image/png": "[encoded data removed]",
      "text/plain": [
       "<Figure size 432x288 with 1 Axes>"
      ]
     },
     "metadata": {
      "needs_background": "light"
     },
     "output_type": "display_data"
    },
    {
     "name": "stdout",
     "output_type": "stream",
     "text": [
      "percent default by payment status\n",
      "PAY_8\n",
      "0    0.162742\n",
      "1    0.557909\n",
      "Name: default, dtype: float64\n"
     ]
    }
   ],
   "source": [
    "#set the number of ticks based on the number of different values in the series\n",
    "x=np.arange(len(df['PAY_8'].unique()))\n",
    "\n",
    "#calulate the percent default for each category\n",
    "defaults_by_pay_status8=df.groupby('PAY_8')['default'].mean()\n",
    "\n",
    "#make bar plot\n",
    "plt.bar(x,defaults_by_pay_status8)\n",
    "\n",
    "#add labels and title\n",
    "plt.ylabel('Percent Default')\n",
    "plt.xticks(x,('Payment','No Payment'))\n",
    "plt.title('Percent Default by Repayment status in August, 2005')\n",
    "\n",
    "#show plot\n",
    "plt.show()\n",
    "\n",
    "#useful statistics\n",
    "print('percent default by payment status')\n",
    "print(defaults_by_pay_status8)"
   ]
  },
  {
   "cell_type": "markdown",
   "metadata": {},
   "source": [
    "#### Bill Amount"
   ]
  },
  {
   "cell_type": "code",
   "execution_count": 24,
   "metadata": {},
   "outputs": [
    {
     "data": {
      "image/png": "[encoded data removed]",
      "text/plain": [
       "<Figure size 432x288 with 1 Axes>"
      ]
     },
     "metadata": {
      "needs_background": "light"
     },
     "output_type": "display_data"
    },
    {
     "name": "stdout",
     "output_type": "stream",
     "text": [
      "average bill amount for clients who defaulted\n",
      "47283.61784207354\n"
     ]
    }
   ],
   "source": [
    "#define variables for default & no default\n",
    "default_bill_amt8 = df[df['default'] == 1]['BILL_AMT8']\n",
    "no_default_bill_amt8 = df[df['default'] == 0]['BILL_AMT8']\n",
    "\n",
    "#make histogram of bill amounts for 8/2005\n",
    "plt.hist([default_bill_amt8, no_default_bill_amt8],bins=20, color = ['red', 'green'],\n",
    "        alpha = 0.6)\n",
    "\n",
    "#set y scale to log to better display values\n",
    "plt.yscale('log')\n",
    "\n",
    "#add lables and title\n",
    "plt.xlabel('Bill Amount')\n",
    "plt.ylabel('Count')\n",
    "plt.title('Default by Bill Amount, August, 2005')\n",
    "\n",
    "#add legend\n",
    "red_patch = mpatches.Patch(color='red', label='Default')\n",
    "green_patch = mpatches.Patch(color = 'green', label = 'No Default')\n",
    "plt.legend(handles=[red_patch, green_patch])\n",
    "\n",
    "#show plot\n",
    "plt.show()\n",
    "\n",
    "#useful statistics\n",
    "print('average bill amount for clients who defaulted')\n",
    "print(np.mean(default_bill_amt8))"
   ]
  },
  {
   "cell_type": "code",
   "execution_count": 25,
   "metadata": {},
   "outputs": [
    {
     "data": {
      "text/plain": [
       "Ttest_indResult(statistic=2.458503181278919, pvalue=0.013957362392434761)"
      ]
     },
     "execution_count": 25,
     "metadata": {},
     "output_type": "execute_result"
    }
   ],
   "source": [
    "rvs0 = df[df['default']==0]['BILL_AMT8']\n",
    "rvs1 = df[df['default']==1]['BILL_AMT8']\n",
    "\n",
    "stats.ttest_ind(rvs0,rvs1)"
   ]
  },
  {
   "cell_type": "markdown",
   "metadata": {},
   "source": [
    "#### Pay Amount"
   ]
  },
  {
   "cell_type": "code",
   "execution_count": 26,
   "metadata": {},
   "outputs": [
    {
     "data": {
      "image/png": "[encoded data removed]",
      "text/plain": [
       "<Figure size 432x288 with 1 Axes>"
      ]
     },
     "metadata": {
      "needs_background": "light"
     },
     "output_type": "display_data"
    },
    {
     "name": "stdout",
     "output_type": "stream",
     "text": [
      "average payment amount for clients who defaulted\n",
      "3388.6496383363474\n"
     ]
    }
   ],
   "source": [
    "#define variables for default & no default\n",
    "default_pay_amt8 = df[df['default'] == 1]['PAY_AMT8']\n",
    "no_default_pay_amt8 = df[df['default'] == 0]['PAY_AMT8']\n",
    "\n",
    "#make histogram of previous month pay amounts for 8/2005\n",
    "plt.hist([default_pay_amt8, no_default_pay_amt8],bins=20, color = ['red', 'green'],\n",
    "        alpha = 0.6)\n",
    "\n",
    "#set y scale to log for visual clarity\n",
    "plt.yscale('log')\n",
    "\n",
    "#add labels and title\n",
    "plt.xlabel('Pay Amount')\n",
    "plt.ylabel('Count')\n",
    "plt.title('Default by Previous Month Pay Amount, August, 2005')\n",
    "\n",
    "#add legend\n",
    "red_patch = mpatches.Patch(color='red', label='Default')\n",
    "green_patch = mpatches.Patch(color = 'green', label = 'No Default')\n",
    "plt.legend(handles=[red_patch, green_patch])\n",
    "\n",
    "#show plot\n",
    "plt.show()\n",
    "\n",
    "#useful statistics\n",
    "print('average payment amount for clients who defaulted')\n",
    "print(np.mean(default_pay_amt8))"
   ]
  },
  {
   "cell_type": "code",
   "execution_count": 27,
   "metadata": {},
   "outputs": [
    {
     "data": {
      "text/plain": [
       "Ttest_indResult(statistic=10.163243786034139, pvalue=3.1666567628387115e-24)"
      ]
     },
     "execution_count": 27,
     "metadata": {},
     "output_type": "execute_result"
    }
   ],
   "source": [
    "rvs0 = df[df['default']==0]['PAY_AMT8']\n",
    "rvs1 = df[df['default']==1]['PAY_AMT8']\n",
    "\n",
    "stats.ttest_ind(rvs0,rvs1)"
   ]
  },
  {
   "cell_type": "markdown",
   "metadata": {},
   "source": [
    "### Pay data (July, 2005)\n",
    "#### Pay Status"
   ]
  },
  {
   "cell_type": "code",
   "execution_count": 28,
   "metadata": {},
   "outputs": [
    {
     "data": {
      "image/png": "[encoded data removed]",
      "text/plain": [
       "<Figure size 432x288 with 1 Axes>"
      ]
     },
     "metadata": {
      "needs_background": "light"
     },
     "output_type": "display_data"
    },
    {
     "name": "stdout",
     "output_type": "stream",
     "text": [
      "percent default by payment status\n",
      "PAY_7\n",
      "0    0.171947\n",
      "1    0.522668\n",
      "Name: default, dtype: float64\n"
     ]
    }
   ],
   "source": [
    "#set the number of ticks based on the number of different values in the series\n",
    "x=np.arange(len(df['PAY_7'].unique()))\n",
    "\n",
    "#calulate the percent default for each category\n",
    "defaults_by_pay_status7=df.groupby('PAY_7')['default'].mean()\n",
    "\n",
    "#make bar plot of default mean of each value count of repayment status for 7/2005\n",
    "plt.bar(x,defaults_by_pay_status7)\n",
    "\n",
    "#add labels and title\n",
    "plt.ylabel('Percent Default')\n",
    "plt.xticks(x,('Payment','No Payment'))\n",
    "plt.title('Percent Default by Repayment status in July, 2005')\n",
    "\n",
    "#show plot\n",
    "plt.show()\n",
    "\n",
    "#useful statistics\n",
    "print('percent default by payment status')\n",
    "print(defaults_by_pay_status7)"
   ]
  },
  {
   "cell_type": "markdown",
   "metadata": {},
   "source": [
    "#### Bill Amount"
   ]
  },
  {
   "cell_type": "code",
   "execution_count": 29,
   "metadata": {},
   "outputs": [
    {
     "data": {
      "image/png": "[encoded data removed]",
      "text/plain": [
       "<Figure size 432x288 with 1 Axes>"
      ]
     },
     "metadata": {
      "needs_background": "light"
     },
     "output_type": "display_data"
    },
    {
     "name": "stdout",
     "output_type": "stream",
     "text": [
      "average bill amount for clients who defaulted\n",
      "45181.59885473177\n"
     ]
    }
   ],
   "source": [
    "#define variables for default & no default\n",
    "default_bill_amt7 = df[df['default'] == 1]['BILL_AMT7']\n",
    "no_default_bill_amt7 = df[df['default'] == 0]['BILL_AMT7']\n",
    "\n",
    "#make histogram of bill amounts for 7/2005\n",
    "plt.hist([default_bill_amt7, no_default_bill_amt7],bins=20, color = ['red', 'green'],\n",
    "        alpha = 0.6)\n",
    "\n",
    "#set y scale to log to better display values\n",
    "plt.yscale('log')\n",
    "\n",
    "#add lables and title\n",
    "plt.xlabel('Bill Amount')\n",
    "plt.ylabel('Count')\n",
    "plt.title('Default by Bill Amount, July, 2005')\n",
    "\n",
    "#add legend\n",
    "red_patch = mpatches.Patch(color='red', label='Default')\n",
    "green_patch = mpatches.Patch(color = 'green', label = 'No Default')\n",
    "plt.legend(handles=[red_patch, green_patch])\n",
    "\n",
    "#show plot\n",
    "plt.show()\n",
    "\n",
    "#useful statistics\n",
    "print('average bill amount for clients who defaulted')\n",
    "print(np.mean(default_bill_amt7))"
   ]
  },
  {
   "cell_type": "code",
   "execution_count": 30,
   "metadata": {},
   "outputs": [
    {
     "data": {
      "text/plain": [
       "Ttest_indResult(statistic=2.4381115045173596, pvalue=0.014769982710723002)"
      ]
     },
     "execution_count": 30,
     "metadata": {},
     "output_type": "execute_result"
    }
   ],
   "source": [
    "rvs0 = df[df['default']==0]['BILL_AMT7']\n",
    "rvs1 = df[df['default']==1]['BILL_AMT7']\n",
    "\n",
    "stats.ttest_ind(rvs0,rvs1)"
   ]
  },
  {
   "cell_type": "markdown",
   "metadata": {},
   "source": [
    "#### Pay Amount"
   ]
  },
  {
   "cell_type": "code",
   "execution_count": 31,
   "metadata": {},
   "outputs": [
    {
     "data": {
      "image/png": "[encoded data removed]",
      "text/plain": [
       "<Figure size 432x288 with 1 Axes>"
      ]
     },
     "metadata": {
      "needs_background": "light"
     },
     "output_type": "display_data"
    },
    {
     "name": "stdout",
     "output_type": "stream",
     "text": [
      "average payment amount for clients who defaulted\n",
      "3367.351567209162\n"
     ]
    }
   ],
   "source": [
    "#define variables for default & no default\n",
    "default_pay_amt7 = df[df['default'] == 1]['PAY_AMT7']\n",
    "no_default_pay_amt7 = df[df['default'] == 0]['PAY_AMT7']\n",
    "\n",
    "#make histogram of previous month pay amounts for 7/2005\n",
    "plt.hist([default_pay_amt7, no_default_pay_amt7],bins=20, color = ['red', 'green'],\n",
    "        alpha = 0.6)\n",
    "\n",
    "#set y scale to log for visual clarity\n",
    "plt.yscale('log')\n",
    "\n",
    "#add labels and title\n",
    "plt.xlabel('Pay Amount')\n",
    "plt.ylabel('Count')\n",
    "plt.title('Default by Previous Month Pay Amount, July, 2005')\n",
    "\n",
    "#add legend\n",
    "red_patch = mpatches.Patch(color='red', label='Default')\n",
    "green_patch = mpatches.Patch(color = 'green', label = 'No Default')\n",
    "plt.legend(handles=[red_patch, green_patch])\n",
    "\n",
    "#show plot\n",
    "plt.show()\n",
    "\n",
    "#useful statistics\n",
    "print('average payment amount for clients who defaulted')\n",
    "print(np.mean(default_pay_amt7))"
   ]
  },
  {
   "cell_type": "code",
   "execution_count": 32,
   "metadata": {},
   "outputs": [
    {
     "data": {
      "text/plain": [
       "Ttest_indResult(statistic=9.757971658572275, pvalue=1.841770291503132e-22)"
      ]
     },
     "execution_count": 32,
     "metadata": {},
     "output_type": "execute_result"
    }
   ],
   "source": [
    "rvs0 = df[df['default']==0]['PAY_AMT7']\n",
    "rvs1 = df[df['default']==1]['PAY_AMT7']\n",
    "\n",
    "stats.ttest_ind(rvs0,rvs1)"
   ]
  },
  {
   "cell_type": "markdown",
   "metadata": {},
   "source": [
    "### Pay data (June, 2005)\n",
    "#### Pay Status"
   ]
  },
  {
   "cell_type": "code",
   "execution_count": 33,
   "metadata": {},
   "outputs": [
    {
     "data": {
      "image/png": "[encoded data removed]",
      "text/plain": [
       "<Figure size 432x288 with 1 Axes>"
      ]
     },
     "metadata": {
      "needs_background": "light"
     },
     "output_type": "display_data"
    },
    {
     "name": "stdout",
     "output_type": "stream",
     "text": [
      "percent default by payment status\n",
      "PAY_6\n",
      "0    0.179577\n",
      "1    0.535328\n",
      "Name: default, dtype: float64\n"
     ]
    }
   ],
   "source": [
    "#set the number of ticks based on the number of different values in the series\n",
    "x=np.arange(len(df['PAY_6'].unique()))\n",
    "\n",
    "#calulate the percent default for each category\n",
    "defaults_by_pay_status6=df.groupby('PAY_6')['default'].mean()\n",
    "\n",
    "#make bar plot\n",
    "plt.bar(x,defaults_by_pay_status6)\n",
    "\n",
    "#add labels and title\n",
    "plt.ylabel('Percent Default')\n",
    "plt.xticks(x,('Payment','No Payment'))\n",
    "plt.title('Percent Default by Repayment status in June, 2005')\n",
    "\n",
    "#show plot\n",
    "plt.show()\n",
    "\n",
    "#useful statistics\n",
    "print('percent default by payment status')\n",
    "print(defaults_by_pay_status6)"
   ]
  },
  {
   "cell_type": "markdown",
   "metadata": {},
   "source": [
    "#### Bill Amount"
   ]
  },
  {
   "cell_type": "code",
   "execution_count": 34,
   "metadata": {},
   "outputs": [
    {
     "data": {
      "image/png": "[encoded data removed]",
      "text/plain": [
       "<Figure size 432x288 with 1 Axes>"
      ]
     },
     "metadata": {
      "needs_background": "light"
     },
     "output_type": "display_data"
    },
    {
     "name": "stdout",
     "output_type": "stream",
     "text": [
      "average bill amount for clients who defaulted\n",
      "42036.950572634116\n"
     ]
    }
   ],
   "source": [
    "#define variables for default & no default\n",
    "default_bill_amt6 = df[df['default'] == 1]['BILL_AMT6']\n",
    "no_default_bill_amt6 = df[df['default'] == 0]['BILL_AMT6']\n",
    "\n",
    "#make histogram of bill amounts for 6/2005\n",
    "plt.hist([default_bill_amt6, no_default_bill_amt6],bins=20, color = ['red', 'green'],\n",
    "        alpha = 0.6)\n",
    "\n",
    "#set y scale to log to better display values\n",
    "plt.yscale('log')\n",
    "\n",
    "#add lables and title\n",
    "plt.xlabel('Bill Amount')\n",
    "plt.ylabel('Count')\n",
    "plt.title('Default by Bill Amount, June, 2005')\n",
    "\n",
    "#add legend\n",
    "red_patch = mpatches.Patch(color='red', label='Default')\n",
    "green_patch = mpatches.Patch(color = 'green', label = 'No Default')\n",
    "plt.legend(handles=[red_patch, green_patch])\n",
    "\n",
    "#show plot\n",
    "plt.show()\n",
    "\n",
    "#useful statistics\n",
    "print('average bill amount for clients who defaulted')\n",
    "print(np.mean(default_bill_amt6))"
   ]
  },
  {
   "cell_type": "code",
   "execution_count": 35,
   "metadata": {},
   "outputs": [
    {
     "data": {
      "text/plain": [
       "Ttest_indResult(statistic=1.759188785998342, pvalue=0.07855564157651403)"
      ]
     },
     "execution_count": 35,
     "metadata": {},
     "output_type": "execute_result"
    }
   ],
   "source": [
    "rvs0 = df[df['default']==0]['BILL_AMT6']\n",
    "rvs1 = df[df['default']==1]['BILL_AMT6']\n",
    "\n",
    "stats.ttest_ind(rvs0,rvs1)"
   ]
  },
  {
   "cell_type": "markdown",
   "metadata": {},
   "source": [
    "#### Pay Amount"
   ]
  },
  {
   "cell_type": "code",
   "execution_count": 36,
   "metadata": {},
   "outputs": [
    {
     "data": {
      "image/png": "[encoded data removed]",
      "text/plain": [
       "<Figure size 432x288 with 1 Axes>"
      ]
     },
     "metadata": {
      "needs_background": "light"
     },
     "output_type": "display_data"
    },
    {
     "name": "stdout",
     "output_type": "stream",
     "text": [
      "average payment amount for clients who defaulted\n",
      "3155.6267329716698\n"
     ]
    }
   ],
   "source": [
    "#define variables for default & no default\n",
    "default_pay_amt6 = df[df['default'] == 1]['PAY_AMT6']\n",
    "no_default_pay_amt6 = df[df['default'] == 0]['PAY_AMT6']\n",
    "\n",
    "#make histogram of previous month pay amounts for 6/2005\n",
    "plt.hist([default_pay_amt6, no_default_pay_amt6],bins=20, color = ['red', 'green'],\n",
    "        alpha = 0.6)\n",
    "\n",
    "#set y scale to log for visual clarity\n",
    "plt.yscale('log')\n",
    "\n",
    "#add labels and title\n",
    "plt.xlabel('Pay Amount')\n",
    "plt.ylabel('Count')\n",
    "plt.title('Default by Previous Month Pay Amount, June, 2005')\n",
    "\n",
    "#add legend\n",
    "red_patch = mpatches.Patch(color='red', label='Default')\n",
    "green_patch = mpatches.Patch(color = 'green', label = 'No Default')\n",
    "plt.legend(handles=[red_patch, green_patch])\n",
    "\n",
    "#show plot\n",
    "plt.show()\n",
    "\n",
    "#useful statistics\n",
    "print('average payment amount for clients who defaulted')\n",
    "print(np.mean(default_pay_amt6))"
   ]
  },
  {
   "cell_type": "code",
   "execution_count": 37,
   "metadata": {},
   "outputs": [
    {
     "data": {
      "text/plain": [
       "Ttest_indResult(statistic=9.858397459473979, pvalue=6.830941601370003e-23)"
      ]
     },
     "execution_count": 37,
     "metadata": {},
     "output_type": "execute_result"
    }
   ],
   "source": [
    "rvs0 = df[df['default']==0]['PAY_AMT6']\n",
    "rvs1 = df[df['default']==1]['PAY_AMT6']\n",
    "\n",
    "stats.ttest_ind(rvs0,rvs1)"
   ]
  },
  {
   "cell_type": "markdown",
   "metadata": {},
   "source": [
    "### Pay data (May, 2005)\n",
    "#### Pay Status"
   ]
  },
  {
   "cell_type": "code",
   "execution_count": 38,
   "metadata": {},
   "outputs": [
    {
     "data": {
      "image/png": "[encoded data removed]",
      "text/plain": [
       "<Figure size 432x288 with 1 Axes>"
      ]
     },
     "metadata": {
      "needs_background": "light"
     },
     "output_type": "display_data"
    },
    {
     "name": "stdout",
     "output_type": "stream",
     "text": [
      "percent default by payment status\n",
      "PAY_5\n",
      "0    0.184485\n",
      "1    0.555593\n",
      "Name: default, dtype: float64\n"
     ]
    }
   ],
   "source": [
    "#set the number of ticks based on the number of different values in the series\n",
    "x=np.arange(len(df['PAY_5'].unique()))\n",
    "\n",
    "#calulate the percent default for each category\n",
    "defaults_by_pay_status5=df.groupby('PAY_5')['default'].mean()\n",
    "\n",
    "#make bar plot\n",
    "plt.bar(x,defaults_by_pay_status5)\n",
    "\n",
    "#add labels and title\n",
    "plt.ylabel('Percent Default')\n",
    "plt.xticks(x,('Payment','No Payment'))\n",
    "plt.title('Percent Default by Repayment status in May, 2005')\n",
    "\n",
    "#show plot\n",
    "plt.show()\n",
    "\n",
    "#useful statistics\n",
    "print('percent default by payment status')\n",
    "print(defaults_by_pay_status5)"
   ]
  },
  {
   "cell_type": "markdown",
   "metadata": {},
   "source": [
    "#### Bill Amount"
   ]
  },
  {
   "cell_type": "code",
   "execution_count": 39,
   "metadata": {},
   "outputs": [
    {
     "data": {
      "image/png": "[encoded data removed]",
      "text/plain": [
       "<Figure size 432x288 with 1 Axes>"
      ]
     },
     "metadata": {
      "needs_background": "light"
     },
     "output_type": "display_data"
    },
    {
     "name": "stdout",
     "output_type": "stream",
     "text": [
      "average bill amount for clients who defaulted\n",
      "39540.19047619047\n"
     ]
    }
   ],
   "source": [
    "#define variables for default & no default\n",
    "default_bill_amt5 = df[df['default'] == 1]['BILL_AMT5']\n",
    "no_default_bill_amt5 = df[df['default'] == 0]['BILL_AMT5']\n",
    "\n",
    "#make histogram of bill amounts for 5/2005\n",
    "plt.hist([default_bill_amt5, no_default_bill_amt5],bins=20, color = ['red', 'green'],\n",
    "        alpha = 0.6)\n",
    "\n",
    "#set y scale to log to better display values\n",
    "plt.yscale('log')\n",
    "\n",
    "#add lables and title\n",
    "plt.xlabel('Bill Amount')\n",
    "plt.ylabel('Count')\n",
    "plt.title('Default by Bill Amount, May, 2005')\n",
    "\n",
    "#add legend\n",
    "red_patch = mpatches.Patch(color='red', label='Default')\n",
    "green_patch = mpatches.Patch(color = 'green', label = 'No Default')\n",
    "plt.legend(handles=[red_patch, green_patch])\n",
    "\n",
    "#show plot\n",
    "plt.show()\n",
    "\n",
    "#useful statistics\n",
    "print('average bill amount for clients who defaulted')\n",
    "print(np.mean(default_bill_amt5))"
   ]
  },
  {
   "cell_type": "code",
   "execution_count": 40,
   "metadata": {},
   "outputs": [
    {
     "data": {
      "text/plain": [
       "Ttest_indResult(statistic=1.1709344117538458, pvalue=0.24163444291382874)"
      ]
     },
     "execution_count": 40,
     "metadata": {},
     "output_type": "execute_result"
    }
   ],
   "source": [
    "rvs0 = df[df['default']==0]['BILL_AMT5']\n",
    "rvs1 = df[df['default']==1]['BILL_AMT5']\n",
    "\n",
    "stats.ttest_ind(rvs0,rvs1)"
   ]
  },
  {
   "cell_type": "markdown",
   "metadata": {},
   "source": [
    "#### Pay Amount"
   ]
  },
  {
   "cell_type": "code",
   "execution_count": 41,
   "metadata": {},
   "outputs": [
    {
     "data": {
      "image/png": "[encoded data removed]",
      "text/plain": [
       "<Figure size 432x288 with 1 Axes>"
      ]
     },
     "metadata": {
      "needs_background": "light"
     },
     "output_type": "display_data"
    },
    {
     "name": "stdout",
     "output_type": "stream",
     "text": [
      "average payment amount for clients who defaulted\n",
      "3219.1395418927063\n"
     ]
    }
   ],
   "source": [
    "#define variables for default & no default\n",
    "default_pay_amt5 = df[df['default'] == 1]['PAY_AMT5']\n",
    "no_default_pay_amt5 = df[df['default'] == 0]['PAY_AMT5']\n",
    "\n",
    "#make histogram of previous month pay amounts for 5/2005\n",
    "plt.hist([default_pay_amt5, no_default_pay_amt5],bins=20, color = ['red', 'green'],\n",
    "        alpha = 0.6)\n",
    "\n",
    "#set y scale to log for visual clarity\n",
    "plt.yscale('log')\n",
    "\n",
    "#add labels and title\n",
    "plt.xlabel('Pay Amount')\n",
    "plt.ylabel('Count')\n",
    "plt.title('Default by Previous Month Pay Amount, May, 2005')\n",
    "\n",
    "#add legend\n",
    "red_patch = mpatches.Patch(color='red', label='Default')\n",
    "green_patch = mpatches.Patch(color = 'green', label = 'No Default')\n",
    "plt.legend(handles=[red_patch, green_patch])\n",
    "\n",
    "#show plot\n",
    "plt.show()\n",
    "\n",
    "#useful statistics\n",
    "print('average payment amount for clients who defaulted')\n",
    "print(np.mean(default_pay_amt5))"
   ]
  },
  {
   "cell_type": "code",
   "execution_count": 42,
   "metadata": {},
   "outputs": [
    {
     "data": {
      "text/plain": [
       "Ttest_indResult(statistic=9.561893159941787, pvalue=1.2413447727776169e-21)"
      ]
     },
     "execution_count": 42,
     "metadata": {},
     "output_type": "execute_result"
    }
   ],
   "source": [
    "rvs0 = df[df['default']==0]['PAY_AMT5']\n",
    "rvs1 = df[df['default']==1]['PAY_AMT5']\n",
    "\n",
    "stats.ttest_ind(rvs0,rvs1)"
   ]
  },
  {
   "cell_type": "markdown",
   "metadata": {},
   "source": [
    "### Pay data (April, 2005)\n",
    "#### Pay Status"
   ]
  },
  {
   "cell_type": "code",
   "execution_count": 43,
   "metadata": {},
   "outputs": [
    {
     "data": {
      "image/png": "[encoded data removed]",
      "text/plain": [
       "<Figure size 432x288 with 1 Axes>"
      ]
     },
     "metadata": {
      "needs_background": "light"
     },
     "output_type": "display_data"
    },
    {
     "name": "stdout",
     "output_type": "stream",
     "text": [
      "percent default by payment status\n",
      "PAY_4\n",
      "0    0.186657\n",
      "1    0.523222\n",
      "Name: default, dtype: float64\n"
     ]
    }
   ],
   "source": [
    "#set the number of ticks based on the number of different values in the series\n",
    "x=np.arange(len(df['PAY_4'].unique()))\n",
    "\n",
    "#calulate the percent default for each category\n",
    "defaults_by_pay_status4=df.groupby('PAY_4')['default'].mean()\n",
    "\n",
    "#make bar plot\n",
    "plt.bar(x,defaults_by_pay_status4)\n",
    "\n",
    "#add labels and title\n",
    "plt.ylabel('Percent Default')\n",
    "plt.xticks(x,('Payment','No Payment'))\n",
    "plt.title('Percent Default by Repayment status in April, 2005')\n",
    "\n",
    "#show plot\n",
    "plt.show()\n",
    "\n",
    "#useful statistics\n",
    "print('percent default by payment status')\n",
    "print(defaults_by_pay_status4)"
   ]
  },
  {
   "cell_type": "markdown",
   "metadata": {},
   "source": [
    "#### Bill Amount"
   ]
  },
  {
   "cell_type": "code",
   "execution_count": 44,
   "metadata": {},
   "outputs": [
    {
     "data": {
      "image/png": "[encoded data removed]",
      "text/plain": [
       "<Figure size 432x288 with 1 Axes>"
      ]
     },
     "metadata": {
      "needs_background": "light"
     },
     "output_type": "display_data"
    },
    {
     "name": "stdout",
     "output_type": "stream",
     "text": [
      "average bill amount for clients who defaulted\n",
      "38271.43550331525\n"
     ]
    }
   ],
   "source": [
    "#define variables for default & no default\n",
    "default_bill_amt4 = df[df['default'] == 1]['BILL_AMT4']\n",
    "no_default_bill_amt4 = df[df['default'] == 0]['BILL_AMT4']\n",
    "\n",
    "#make histogram of bill amounts for 4/2005\n",
    "plt.hist([default_bill_amt4, no_default_bill_amt4],bins=20, color = ['red', 'green'],\n",
    "        alpha = 0.6)\n",
    "\n",
    "#set y scale to log to better display values\n",
    "plt.yscale('log')\n",
    "\n",
    "#add lables and title\n",
    "plt.xlabel('Bill Amount')\n",
    "plt.ylabel('Count')\n",
    "plt.title('Default by Bill Amount, April, 2005')\n",
    "\n",
    "#add legend\n",
    "red_patch = mpatches.Patch(color='red', label='Default')\n",
    "green_patch = mpatches.Patch(color = 'green', label = 'No Default')\n",
    "plt.legend(handles=[red_patch, green_patch])\n",
    "\n",
    "#show plot\n",
    "plt.show()\n",
    "\n",
    "#useful statistics\n",
    "print('average bill amount for clients who defaulted')\n",
    "print(np.mean(default_bill_amt4))"
   ]
  },
  {
   "cell_type": "code",
   "execution_count": 45,
   "metadata": {},
   "outputs": [
    {
     "data": {
      "text/plain": [
       "Ttest_indResult(statistic=0.9304946490374802, pvalue=0.3521225212306479)"
      ]
     },
     "execution_count": 45,
     "metadata": {},
     "output_type": "execute_result"
    }
   ],
   "source": [
    "rvs0 = df[df['default']==0]['BILL_AMT4']\n",
    "rvs1 = df[df['default']==1]['BILL_AMT4']\n",
    "\n",
    "stats.ttest_ind(rvs0,rvs1)"
   ]
  },
  {
   "cell_type": "markdown",
   "metadata": {},
   "source": [
    "#### Pay Amount"
   ]
  },
  {
   "cell_type": "code",
   "execution_count": 46,
   "metadata": {},
   "outputs": [
    {
     "data": {
      "image/png": "[encoded data removed]",
      "text/plain": [
       "<Figure size 432x288 with 1 Axes>"
      ]
     },
     "metadata": {
      "needs_background": "light"
     },
     "output_type": "display_data"
    },
    {
     "name": "stdout",
     "output_type": "stream",
     "text": [
      "average payment amount for clients who defaulted\n",
      "3441.4820675105484\n"
     ]
    }
   ],
   "source": [
    "#define variables for default & no default\n",
    "default_pay_amt4 = df[df['default'] == 1]['PAY_AMT4']\n",
    "no_default_pay_amt4 = df[df['default'] == 0]['PAY_AMT4']\n",
    "\n",
    "#make histogram of previous month pay amounts for 4/2005\n",
    "plt.hist([default_pay_amt4, no_default_pay_amt4],bins=20, color = ['red', 'green'],\n",
    "        alpha = 0.6)\n",
    "\n",
    "#set y scale to log for visual clarity\n",
    "plt.yscale('log')\n",
    "\n",
    "#add labels and title\n",
    "plt.xlabel('Pay Amount')\n",
    "plt.ylabel('Count')\n",
    "plt.title('Default by Previous Month Pay Amount, April, 2005')\n",
    "\n",
    "#add legend\n",
    "red_patch = mpatches.Patch(color='red', label='Default')\n",
    "green_patch = mpatches.Patch(color = 'green', label = 'No Default')\n",
    "plt.legend(handles=[red_patch, green_patch])\n",
    "\n",
    "#show plot\n",
    "plt.show()\n",
    "\n",
    "#useful statistics\n",
    "print('average payment amount for clients who defaulted')\n",
    "print(np.mean(default_pay_amt4))"
   ]
  },
  {
   "cell_type": "code",
   "execution_count": 47,
   "metadata": {},
   "outputs": [
    {
     "data": {
      "text/plain": [
       "Ttest_indResult(statistic=9.224372354111592, pvalue=3.033589072770243e-20)"
      ]
     },
     "execution_count": 47,
     "metadata": {},
     "output_type": "execute_result"
    }
   ],
   "source": [
    "rvs0 = df[df['default']==0]['PAY_AMT4']\n",
    "rvs1 = df[df['default']==1]['PAY_AMT4']\n",
    "\n",
    "stats.ttest_ind(rvs0,rvs1)"
   ]
  },
  {
   "cell_type": "markdown",
   "metadata": {},
   "source": [
    "## Data Modeling"
   ]
  },
  {
   "cell_type": "code",
   "execution_count": 48,
   "metadata": {},
   "outputs": [],
   "source": [
    "from sklearn.model_selection import GridSearchCV, train_test_split\n",
    "from sklearn.metrics import make_scorer, recall_score, confusion_matrix\n",
    "from sklearn.ensemble import RandomForestClassifier"
   ]
  },
  {
   "cell_type": "markdown",
   "metadata": {},
   "source": [
    "### Define PIF (paid in full) columns"
   ]
  },
  {
   "cell_type": "code",
   "execution_count": 49,
   "metadata": {},
   "outputs": [],
   "source": [
    "#define columns names\n",
    "#Note: can't define for September/1 because there is no pay data for October\n",
    "PIF_cols = ['PIF_8', 'PIF_7', 'PIF_6', 'PIF_5', 'PIF_4']\n",
    "PAY_cols = ['PAY_AMT9', 'PAY_AMT8', 'PAY_AMT7', 'PAY_AMT6', 'PAY_AMT5']\n",
    "BILL_cols = ['BILL_AMT8', 'BILL_AMT7', 'BILL_AMT6', 'BILL_AMT5', 'BILL_AMT4']\n",
    "\n",
    "for pif, i in zip(PIF_cols, np.arange(0,5)):\n",
    "    df[pif] = (df[PAY_cols[i]] >= df[BILL_cols[i]])"
   ]
  },
  {
   "cell_type": "markdown",
   "metadata": {},
   "source": [
    "#### EDA for PIF columns"
   ]
  },
  {
   "cell_type": "markdown",
   "metadata": {},
   "source": [
    "August"
   ]
  },
  {
   "cell_type": "code",
   "execution_count": 50,
   "metadata": {},
   "outputs": [
    {
     "data": {
      "image/png": "[encoded data removed]",
      "text/plain": [
       "<Figure size 432x288 with 1 Axes>"
      ]
     },
     "metadata": {
      "needs_background": "light"
     },
     "output_type": "display_data"
    },
    {
     "data": {
      "image/png": "[encoded data removed]",
      "text/plain": [
       "<Figure size 432x288 with 1 Axes>"
      ]
     },
     "metadata": {
      "needs_background": "light"
     },
     "output_type": "display_data"
    }
   ],
   "source": [
    "#plot august paid in full distribution\n",
    "#set the number of ticks based on the number of different values in the series\n",
    "x=np.arange(len(df['PIF_8'].unique()))\n",
    "\n",
    "#Make barplot\n",
    "plt.bar(x,df['PIF_8'].value_counts().sort_index())\n",
    "\n",
    "#add labels and title\n",
    "plt.ylabel('Count')\n",
    "plt.xticks(x,('Not PIF','PIF'))\n",
    "plt.title('August Bills Paid in Full')\n",
    "\n",
    "#show plot\n",
    "plt.show()\n",
    "\n",
    "#plot percent default by august paid in full\n",
    "#count the number of defaults for each category\n",
    "average_defaults_by_pif_8=df.groupby('PIF_8')['default'].mean()\n",
    "\n",
    "#make barplot\n",
    "plt.bar(x,average_defaults_by_pif_8)\n",
    "\n",
    "#add labels and title\n",
    "plt.ylabel('Percent Default')\n",
    "plt.xticks(x,('Not PIF','PIF'))\n",
    "plt.title('Percent Default by August Bills Paid in Full')\n",
    "\n",
    "#show plot\n",
    "plt.show()"
   ]
  },
  {
   "cell_type": "markdown",
   "metadata": {},
   "source": [
    "July"
   ]
  },
  {
   "cell_type": "code",
   "execution_count": 51,
   "metadata": {},
   "outputs": [
    {
     "data": {
      "image/png": "[encoded data removed]",
      "text/plain": [
       "<Figure size 432x288 with 1 Axes>"
      ]
     },
     "metadata": {
      "needs_background": "light"
     },
     "output_type": "display_data"
    },
    {
     "data": {
      "image/png": "[encoded data removed]",
      "text/plain": [
       "<Figure size 432x288 with 1 Axes>"
      ]
     },
     "metadata": {
      "needs_background": "light"
     },
     "output_type": "display_data"
    }
   ],
   "source": [
    "#plot july paid in full distribution\n",
    "#set the number of ticks based on the number of different values in the series\n",
    "x=np.arange(len(df['PIF_7'].unique()))\n",
    "\n",
    "#Make barplot\n",
    "plt.bar(x,df['PIF_7'].value_counts().sort_index())\n",
    "\n",
    "#add labels and title\n",
    "plt.ylabel('Count')\n",
    "plt.xticks(x,('Not PIF','PIF'))\n",
    "plt.title('July Bills Paid in Full')\n",
    "\n",
    "#show plot\n",
    "plt.show()\n",
    "\n",
    "#plot percent default by july paid in full\n",
    "#count the number of defaults for each category\n",
    "average_defaults_by_pif_7=df.groupby('PIF_7')['default'].mean()\n",
    "\n",
    "#make barplot\n",
    "plt.bar(x,average_defaults_by_pif_7)\n",
    "\n",
    "#add labels and title\n",
    "plt.ylabel('Percent Default')\n",
    "plt.xticks(x,('Not PIF','PIF'))\n",
    "plt.title('Percent Default by July Bills Paid in Full')\n",
    "\n",
    "#show plot\n",
    "plt.show()"
   ]
  },
  {
   "cell_type": "markdown",
   "metadata": {},
   "source": [
    "June"
   ]
  },
  {
   "cell_type": "code",
   "execution_count": 52,
   "metadata": {},
   "outputs": [
    {
     "data": {
      "image/png": "[encoded data removed]",
      "text/plain": [
       "<Figure size 432x288 with 1 Axes>"
      ]
     },
     "metadata": {
      "needs_background": "light"
     },
     "output_type": "display_data"
    },
    {
     "data": {
      "image/png": "[encoded data removed]",
      "text/plain": [
       "<Figure size 432x288 with 1 Axes>"
      ]
     },
     "metadata": {
      "needs_background": "light"
     },
     "output_type": "display_data"
    }
   ],
   "source": [
    "#plot june paid in full distribution\n",
    "#set the number of ticks based on the number of different values in the series\n",
    "x=np.arange(len(df['PIF_6'].unique()))\n",
    "\n",
    "#Make barplot\n",
    "plt.bar(x,df['PIF_6'].value_counts().sort_index())\n",
    "\n",
    "#add labels and title\n",
    "plt.ylabel('Count')\n",
    "plt.xticks(x,('Not PIF','PIF'))\n",
    "plt.title('June Bills Paid in Full')\n",
    "\n",
    "#show plot\n",
    "plt.show()\n",
    "\n",
    "#plot percent default by june paid in full\n",
    "#count the number of defaults for each category\n",
    "average_defaults_by_pif_6=df.groupby('PIF_6')['default'].mean()\n",
    "\n",
    "#make barplot of default\n",
    "plt.bar(x,average_defaults_by_pif_6)\n",
    "\n",
    "#add labels and title\n",
    "plt.ylabel('Percent Default')\n",
    "plt.xticks(x,('Not PIF','PIF'))\n",
    "plt.title('Percent Default by June Bills Paid in Full')\n",
    "\n",
    "#show plot\n",
    "plt.show()"
   ]
  },
  {
   "cell_type": "markdown",
   "metadata": {},
   "source": [
    "May"
   ]
  },
  {
   "cell_type": "code",
   "execution_count": 53,
   "metadata": {},
   "outputs": [
    {
     "data": {
      "image/png": "[encoded data removed]",
      "text/plain": [
       "<Figure size 432x288 with 1 Axes>"
      ]
     },
     "metadata": {
      "needs_background": "light"
     },
     "output_type": "display_data"
    },
    {
     "data": {
      "image/png": "[encoded data removed]",
      "text/plain": [
       "<Figure size 432x288 with 1 Axes>"
      ]
     },
     "metadata": {
      "needs_background": "light"
     },
     "output_type": "display_data"
    }
   ],
   "source": [
    "#plot may paid in full distribution\n",
    "#set the number of ticks based on the number of different values in the series\n",
    "x=np.arange(len(df['PIF_5'].unique()))\n",
    "\n",
    "#Make barplot\n",
    "plt.bar(x,df['PIF_5'].value_counts().sort_index())\n",
    "\n",
    "#add labels and title\n",
    "plt.ylabel('Count')\n",
    "plt.xticks(x,('Not PIF','PIF'))\n",
    "plt.title('May Bills Paid in Full')\n",
    "\n",
    "#show plot\n",
    "plt.show()\n",
    "\n",
    "#plot percent default by may paid in full\n",
    "#count the number of defaults for each category\n",
    "average_defaults_by_pif_5=df.groupby('PIF_5')['default'].mean()\n",
    "\n",
    "#make barplot of default\n",
    "plt.bar(x,average_defaults_by_pif_5)\n",
    "\n",
    "#add labels and title\n",
    "plt.ylabel('Percent Default')\n",
    "plt.xticks(x,('Not PIF','PIF'))\n",
    "plt.title('Percent Default by May Bills Paid in Full')\n",
    "\n",
    "#show plot\n",
    "plt.show()"
   ]
  },
  {
   "cell_type": "markdown",
   "metadata": {},
   "source": [
    "April"
   ]
  },
  {
   "cell_type": "code",
   "execution_count": 54,
   "metadata": {},
   "outputs": [
    {
     "data": {
      "image/png": "[encoded data removed]",
      "text/plain": [
       "<Figure size 432x288 with 1 Axes>"
      ]
     },
     "metadata": {
      "needs_background": "light"
     },
     "output_type": "display_data"
    },
    {
     "data": {
      "image/png": "[encoded data removed]",
      "text/plain": [
       "<Figure size 432x288 with 1 Axes>"
      ]
     },
     "metadata": {
      "needs_background": "light"
     },
     "output_type": "display_data"
    }
   ],
   "source": [
    "#plot april paid in full distribution\n",
    "#set the number of ticks based on the number of different values in the series\n",
    "x=np.arange(len(df['PIF_4'].unique()))\n",
    "\n",
    "#Make barplot\n",
    "plt.bar(x,df['PIF_4'].value_counts().sort_index())\n",
    "\n",
    "#add labels and title\n",
    "plt.ylabel('Count')\n",
    "plt.xticks(x,('Not PIF','PIF'))\n",
    "plt.title('April Bills Paid in Full')\n",
    "\n",
    "#show plot\n",
    "plt.show()\n",
    "\n",
    "#plot percent default by april paid in full\n",
    "#count the number of defaults for each category\n",
    "average_defaults_by_pif_4=df.groupby('PIF_4')['default'].mean()\n",
    "\n",
    "#make barplot\n",
    "plt.bar(x,average_defaults_by_pif_4)\n",
    "\n",
    "#add labels and title\n",
    "plt.ylabel('Percent Default')\n",
    "plt.xticks(x,('Not PIF','PIF'))\n",
    "plt.title('Percent Default by April Bills Paid in Full')\n",
    "\n",
    "#show plot\n",
    "plt.show()"
   ]
  },
  {
   "cell_type": "code",
   "execution_count": 55,
   "metadata": {},
   "outputs": [
    {
     "data": {
      "image/png": "[encoded data removed]",
      "text/plain": [
       "<Figure size 432x288 with 1 Axes>"
      ]
     },
     "metadata": {
      "needs_background": "light"
     },
     "output_type": "display_data"
    }
   ],
   "source": [
    "#create dataframe to hold values\n",
    "avg_pif_df = pd.DataFrame([average_defaults_by_pif_4, average_defaults_by_pif_5,\n",
    "                          average_defaults_by_pif_6, average_defaults_by_pif_7,\n",
    "                          average_defaults_by_pif_8], index = ['April', 'May', 'June', 'July',\n",
    "                                                               'August'])\n",
    "#rename columns\n",
    "avg_pif_df = avg_pif_df.rename(index = str, columns = {False: 'Not PIF', True: 'PIF'})\n",
    "\n",
    "#plot histogram of paid in full distribution for all months\n",
    "#set the number of ticks based on the number of different values in the series\n",
    "x=np.arange(len(avg_pif_df.index))\n",
    "\n",
    "#make barplots\n",
    "sns.barplot(x, 'Not PIF', data = avg_pif_df, color = 'r')\n",
    "sns.barplot(x, 'PIF', data = avg_pif_df, color = 'g')\n",
    "\n",
    "#set y range for clairty\n",
    "plt.ylim(0.14, 0.27)\n",
    "\n",
    "#add labels and title\n",
    "plt.ylabel('Percent Default')\n",
    "plt.xticks(x, avg_pif_df.index)\n",
    "plt.title('Monthly Default Percentage of PIF')\n",
    "\n",
    "#add legend\n",
    "red_patch = mpatches.Patch(color='red', label='Not PIF')\n",
    "green_patch = mpatches.Patch(color = 'green', label = 'PIF')\n",
    "plt.legend(handles=[red_patch, green_patch])\n",
    "\n",
    "#show plot\n",
    "plt.show()"
   ]
  },
  {
   "cell_type": "markdown",
   "metadata": {},
   "source": [
    "Drop clients who closed their accounts"
   ]
  },
  {
   "cell_type": "code",
   "execution_count": 56,
   "metadata": {},
   "outputs": [],
   "source": [
    "#filter customers who closed their account to drop from the dataset\n",
    "closed = df[(df['default'] == 1) & (df['PIF_8'] == 1)]\n",
    "\n",
    "df = df.drop(closed.index)"
   ]
  },
  {
   "cell_type": "code",
   "execution_count": 57,
   "metadata": {},
   "outputs": [
    {
     "data": {
      "text/plain": [
       "0.0564"
      ]
     },
     "execution_count": 57,
     "metadata": {},
     "output_type": "execute_result"
    }
   ],
   "source": [
    "#percent of population dropped from dataset\n",
    "len(closed) / 30000"
   ]
  },
  {
   "cell_type": "markdown",
   "metadata": {},
   "source": [
    "### Split categorical columns"
   ]
  },
  {
   "cell_type": "code",
   "execution_count": 58,
   "metadata": {},
   "outputs": [],
   "source": [
    "#create dummy variable columns for categorical variables\n",
    "df[['MARRIED','SINGLE','OTHER']] =  pd.get_dummies(df['MARRIAGE'])\n",
    "df[['GRADUATE_SCHOOL','UNIVERSITY','HIGH_SCHOOL','OTHERS']] =  pd.get_dummies(df['EDUCATION'])\n",
    "\n",
    "#drop others columns\n",
    "df = df.drop(['OTHER', 'OTHERS'], axis = 1)"
   ]
  },
  {
   "cell_type": "markdown",
   "metadata": {},
   "source": [
    "### Train Test Split"
   ]
  },
  {
   "cell_type": "code",
   "execution_count": 59,
   "metadata": {},
   "outputs": [],
   "source": [
    "#set dependent variable to default.payment.next.month\n",
    "y = df['default'].copy()\n",
    "\n",
    "#set independent varaible to remaining columns (features)\n",
    "features = ['LIMIT_BAL', 'SEX', 'GRADUATE_SCHOOL','UNIVERSITY','HIGH_SCHOOL',\n",
    "            'MARRIED','SINGLE', 'AGE', 'PAY_9', 'PAY_8', 'PAY_7', 'PAY_6',\n",
    "            'PAY_5', 'PAY_4', 'PIF_8', 'PIF_7', 'PIF_6', 'PIF_5', 'PIF_4']\n",
    "\n",
    "X = df[features].copy()\n",
    "\n",
    "#split the dataset into testing and training using train_test_split\n",
    "X_train, X_test, y_train, y_test = train_test_split(X, y, test_size=0.2, random_state=42)"
   ]
  },
  {
   "cell_type": "markdown",
   "metadata": {},
   "source": [
    "### Model Tuning"
   ]
  },
  {
   "cell_type": "markdown",
   "metadata": {},
   "source": [
    "#### Run 1"
   ]
  },
  {
   "cell_type": "code",
   "execution_count": 60,
   "metadata": {
    "scrolled": false
   },
   "outputs": [],
   "source": [
    "parameters = {'max_depth': np.linspace(3, 10, 8, dtype = int),\n",
    "          'n_estimators': np.linspace(30, 200, 18, dtype = int)}\n",
    "\n",
    "scorer = make_scorer(recall_score)\n",
    "\n",
    "grid = GridSearchCV(RandomForestClassifier(class_weight = 'balanced', random_state = 42),\n",
    "                    parameters, scorer, cv=5, return_train_score = True)\n",
    "\n",
    "grid = grid.fit(X_train, y_train)"
   ]
  },
  {
   "cell_type": "code",
   "execution_count": 61,
   "metadata": {},
   "outputs": [
    {
     "name": "stdout",
     "output_type": "stream",
     "text": [
      "Best score: 0.6992917143893758\n",
      "Best parameters: {'max_depth': 6, 'n_estimators': 30}\n"
     ]
    }
   ],
   "source": [
    "print('Best score:', grid.best_score_)\n",
    "print('Best parameters:', grid.best_params_)"
   ]
  },
  {
   "cell_type": "code",
   "execution_count": 62,
   "metadata": {},
   "outputs": [],
   "source": [
    "results = pd.DataFrame(grid.cv_results_)"
   ]
  },
  {
   "cell_type": "code",
   "execution_count": 72,
   "metadata": {},
   "outputs": [
    {
     "name": "stderr",
     "output_type": "stream",
     "text": [
      "/anaconda3/lib/python3.6/site-packages/scipy/stats/stats.py:1713: FutureWarning: Using a non-tuple sequence for multidimensional indexing is deprecated; use `arr[tuple(seq)]` instead of `arr[seq]`. In the future this will be interpreted as an array index, `arr[np.array(seq)]`, which will result either in an error or a different result.\n",
      "  return np.add.reduce(sorted[indexer] * weights, axis=axis) / sumval\n"
     ]
    },
    {
     "data": {
      "image/png": "[encoded data removed]",
      "text/plain": [
       "<Figure size 432x288 with 1 Axes>"
      ]
     },
     "metadata": {
      "needs_background": "light"
     },
     "output_type": "display_data"
    }
   ],
   "source": [
    "#create figure\n",
    "plt.figure()\n",
    "\n",
    "#set title\n",
    "plt.title('GridSearchCV Results')\n",
    "\n",
    "#create plot object\n",
    "ax = plt.gca()\n",
    "\n",
    "#set x & y limits based on data in results dataframe\n",
    "ax.set_xlim(30, 240)\n",
    "ax.set_ylim(0.67, 0.7)\n",
    "\n",
    "#create plot with results data\n",
    "sns.lineplot('param_n_estimators', 'mean_test_score', data = results,\n",
    "            hue = results.param_max_depth, legend = 'full', palette = 'cool_r')\n",
    "\n",
    "#label axes\n",
    "plt.xlabel('n_estimators')\n",
    "plt.ylabel('Recall Score')\n",
    "\n",
    "#show plot\n",
    "plt.show()"
   ]
  },
  {
   "cell_type": "code",
   "execution_count": 64,
   "metadata": {},
   "outputs": [
    {
     "name": "stdout",
     "output_type": "stream",
     "text": [
      "Recall score: 0.7020408163265306\n"
     ]
    },
    {
     "data": {
      "text/html": [
       "<div>\n",
       "<style scoped>\n",
       "    .dataframe tbody tr th:only-of-type {\n",
       "        vertical-align: middle;\n",
       "    }\n",
       "\n",
       "    .dataframe tbody tr th {\n",
       "        vertical-align: top;\n",
       "    }\n",
       "\n",
       "    .dataframe thead th {\n",
       "        text-align: right;\n",
       "    }\n",
       "</style>\n",
       "<table border=\"1\" class=\"dataframe\">\n",
       "  <thead>\n",
       "    <tr style=\"text-align: right;\">\n",
       "      <th></th>\n",
       "      <th>0</th>\n",
       "      <th>1</th>\n",
       "    </tr>\n",
       "  </thead>\n",
       "  <tbody>\n",
       "    <tr>\n",
       "      <th>0</th>\n",
       "      <td>4033</td>\n",
       "      <td>649</td>\n",
       "    </tr>\n",
       "    <tr>\n",
       "      <th>1</th>\n",
       "      <td>292</td>\n",
       "      <td>688</td>\n",
       "    </tr>\n",
       "  </tbody>\n",
       "</table>\n",
       "</div>"
      ],
      "text/plain": [
       "      0    1\n",
       "0  4033  649\n",
       "1   292  688"
      ]
     },
     "execution_count": 64,
     "metadata": {},
     "output_type": "execute_result"
    }
   ],
   "source": [
    "#create the classifier\n",
    "clf = RandomForestClassifier(n_estimators = 30, max_depth = 6, random_state = 42,\n",
    "                            class_weight = 'balanced')\n",
    "\n",
    "#fit classifier to training set (with all defaults)\n",
    "clf = clf.fit(X_train, y_train)\n",
    "\n",
    "#run prediction on test set\n",
    "prd = clf.predict(X_test)\n",
    "\n",
    "#check recall\n",
    "print('Recall score:', recall_score(y_true = y_test, y_pred = prd))\n",
    "\n",
    "#show confusion matrix\n",
    "pd.DataFrame(confusion_matrix(y_true = y_test, y_pred = prd))"
   ]
  },
  {
   "cell_type": "code",
   "execution_count": 65,
   "metadata": {
    "scrolled": false
   },
   "outputs": [
    {
     "data": {
      "text/html": [
       "<div>\n",
       "<style scoped>\n",
       "    .dataframe tbody tr th:only-of-type {\n",
       "        vertical-align: middle;\n",
       "    }\n",
       "\n",
       "    .dataframe tbody tr th {\n",
       "        vertical-align: top;\n",
       "    }\n",
       "\n",
       "    .dataframe thead th {\n",
       "        text-align: right;\n",
       "    }\n",
       "</style>\n",
       "<table border=\"1\" class=\"dataframe\">\n",
       "  <thead>\n",
       "    <tr style=\"text-align: right;\">\n",
       "      <th></th>\n",
       "      <th>feature</th>\n",
       "      <th>score</th>\n",
       "    </tr>\n",
       "  </thead>\n",
       "  <tbody>\n",
       "    <tr>\n",
       "      <th>14</th>\n",
       "      <td>PIF_8</td>\n",
       "      <td>0.274671</td>\n",
       "    </tr>\n",
       "    <tr>\n",
       "      <th>8</th>\n",
       "      <td>PAY_9</td>\n",
       "      <td>0.183614</td>\n",
       "    </tr>\n",
       "    <tr>\n",
       "      <th>9</th>\n",
       "      <td>PAY_8</td>\n",
       "      <td>0.175227</td>\n",
       "    </tr>\n",
       "    <tr>\n",
       "      <th>10</th>\n",
       "      <td>PAY_7</td>\n",
       "      <td>0.065750</td>\n",
       "    </tr>\n",
       "    <tr>\n",
       "      <th>11</th>\n",
       "      <td>PAY_6</td>\n",
       "      <td>0.062222</td>\n",
       "    </tr>\n",
       "    <tr>\n",
       "      <th>15</th>\n",
       "      <td>PIF_7</td>\n",
       "      <td>0.049585</td>\n",
       "    </tr>\n",
       "    <tr>\n",
       "      <th>12</th>\n",
       "      <td>PAY_5</td>\n",
       "      <td>0.041277</td>\n",
       "    </tr>\n",
       "    <tr>\n",
       "      <th>16</th>\n",
       "      <td>PIF_6</td>\n",
       "      <td>0.036158</td>\n",
       "    </tr>\n",
       "    <tr>\n",
       "      <th>0</th>\n",
       "      <td>LIMIT_BAL</td>\n",
       "      <td>0.034948</td>\n",
       "    </tr>\n",
       "    <tr>\n",
       "      <th>13</th>\n",
       "      <td>PAY_4</td>\n",
       "      <td>0.029228</td>\n",
       "    </tr>\n",
       "    <tr>\n",
       "      <th>17</th>\n",
       "      <td>PIF_5</td>\n",
       "      <td>0.021772</td>\n",
       "    </tr>\n",
       "    <tr>\n",
       "      <th>18</th>\n",
       "      <td>PIF_4</td>\n",
       "      <td>0.013051</td>\n",
       "    </tr>\n",
       "    <tr>\n",
       "      <th>7</th>\n",
       "      <td>AGE</td>\n",
       "      <td>0.004753</td>\n",
       "    </tr>\n",
       "    <tr>\n",
       "      <th>2</th>\n",
       "      <td>GRADUATE_SCHOOL</td>\n",
       "      <td>0.003879</td>\n",
       "    </tr>\n",
       "    <tr>\n",
       "      <th>3</th>\n",
       "      <td>UNIVERSITY</td>\n",
       "      <td>0.001139</td>\n",
       "    </tr>\n",
       "    <tr>\n",
       "      <th>1</th>\n",
       "      <td>SEX</td>\n",
       "      <td>0.000958</td>\n",
       "    </tr>\n",
       "    <tr>\n",
       "      <th>4</th>\n",
       "      <td>HIGH_SCHOOL</td>\n",
       "      <td>0.000691</td>\n",
       "    </tr>\n",
       "    <tr>\n",
       "      <th>5</th>\n",
       "      <td>MARRIED</td>\n",
       "      <td>0.000667</td>\n",
       "    </tr>\n",
       "    <tr>\n",
       "      <th>6</th>\n",
       "      <td>SINGLE</td>\n",
       "      <td>0.000409</td>\n",
       "    </tr>\n",
       "  </tbody>\n",
       "</table>\n",
       "</div>"
      ],
      "text/plain": [
       "            feature     score\n",
       "14            PIF_8  0.274671\n",
       "8             PAY_9  0.183614\n",
       "9             PAY_8  0.175227\n",
       "10            PAY_7  0.065750\n",
       "11            PAY_6  0.062222\n",
       "15            PIF_7  0.049585\n",
       "12            PAY_5  0.041277\n",
       "16            PIF_6  0.036158\n",
       "0         LIMIT_BAL  0.034948\n",
       "13            PAY_4  0.029228\n",
       "17            PIF_5  0.021772\n",
       "18            PIF_4  0.013051\n",
       "7               AGE  0.004753\n",
       "2   GRADUATE_SCHOOL  0.003879\n",
       "3        UNIVERSITY  0.001139\n",
       "1               SEX  0.000958\n",
       "4       HIGH_SCHOOL  0.000691\n",
       "5           MARRIED  0.000667\n",
       "6            SINGLE  0.000409"
      ]
     },
     "execution_count": 65,
     "metadata": {},
     "output_type": "execute_result"
    }
   ],
   "source": [
    "imp = clf.feature_importances_.tolist()\n",
    "imp_df = pd.DataFrame({'feature': features, 'score': imp})\n",
    "imp_df.sort_values(by='score', ascending = False)"
   ]
  },
  {
   "cell_type": "markdown",
   "metadata": {},
   "source": [
    "#### Run 2"
   ]
  },
  {
   "cell_type": "code",
   "execution_count": 66,
   "metadata": {
    "scrolled": false
   },
   "outputs": [],
   "source": [
    "parameters = {'max_depth': np.linspace(3, 10, 8, dtype = int),\n",
    "          'n_estimators': np.linspace(15, 35, 21, dtype = int)}\n",
    "\n",
    "scorer = make_scorer(recall_score)\n",
    "\n",
    "grid = GridSearchCV(RandomForestClassifier(class_weight = 'balanced', random_state = 42),\n",
    "                    parameters, scorer, cv=5, return_train_score = True)\n",
    "\n",
    "grid = grid.fit(X_train, y_train)"
   ]
  },
  {
   "cell_type": "code",
   "execution_count": 67,
   "metadata": {},
   "outputs": [
    {
     "name": "stdout",
     "output_type": "stream",
     "text": [
      "Best score: 0.7146832910272478\n",
      "Best parameters: {'max_depth': 7, 'n_estimators': 16}\n"
     ]
    }
   ],
   "source": [
    "print('Best score:', grid.best_score_)\n",
    "print('Best parameters:', grid.best_params_)"
   ]
  },
  {
   "cell_type": "code",
   "execution_count": 68,
   "metadata": {},
   "outputs": [],
   "source": [
    "results2 = pd.DataFrame(grid.cv_results_)\n",
    "\n",
    "results = pd.concat([results, results2], axis = 0)"
   ]
  },
  {
   "cell_type": "code",
   "execution_count": 69,
   "metadata": {},
   "outputs": [
    {
     "name": "stderr",
     "output_type": "stream",
     "text": [
      "/anaconda3/lib/python3.6/site-packages/scipy/stats/stats.py:1713: FutureWarning: Using a non-tuple sequence for multidimensional indexing is deprecated; use `arr[tuple(seq)]` instead of `arr[seq]`. In the future this will be interpreted as an array index, `arr[np.array(seq)]`, which will result either in an error or a different result.\n",
      "  return np.add.reduce(sorted[indexer] * weights, axis=axis) / sumval\n"
     ]
    },
    {
     "data": {
      "image/png": "[encoded data removed]",
      "text/plain": [
       "<Figure size 432x288 with 1 Axes>"
      ]
     },
     "metadata": {
      "needs_background": "light"
     },
     "output_type": "display_data"
    }
   ],
   "source": [
    "#create figure\n",
    "plt.figure()\n",
    "\n",
    "#set title\n",
    "plt.title('GridSearchCV Results')\n",
    "\n",
    "#create plot object\n",
    "ax = plt.gca()\n",
    "\n",
    "#set x & y limits based on data in results dataframe from both runs\n",
    "ax.set_xlim(15, 50)\n",
    "ax.set_ylim(0.67, 0.72)\n",
    "\n",
    "#create plot with results data\n",
    "sns.lineplot('param_n_estimators', 'mean_test_score', data = results,\n",
    "            hue = results.param_max_depth, legend = 'full', palette = 'cool_r')\n",
    "\n",
    "#label axes\n",
    "plt.xlabel('n_estimators')\n",
    "plt.ylabel('Recall Score')\n",
    "\n",
    "#show plot\n",
    "plt.show()\n",
    "\n",
    "#sns.heatmap([results.param_n_estimators, results.param_max_depth], \n",
    "#            cmap = results.mean_test_score)\n",
    "#plt.show()"
   ]
  },
  {
   "cell_type": "code",
   "execution_count": 70,
   "metadata": {},
   "outputs": [
    {
     "name": "stdout",
     "output_type": "stream",
     "text": [
      "Recall score: 0.7193877551020408\n"
     ]
    },
    {
     "data": {
      "text/html": [
       "<div>\n",
       "<style scoped>\n",
       "    .dataframe tbody tr th:only-of-type {\n",
       "        vertical-align: middle;\n",
       "    }\n",
       "\n",
       "    .dataframe tbody tr th {\n",
       "        vertical-align: top;\n",
       "    }\n",
       "\n",
       "    .dataframe thead th {\n",
       "        text-align: right;\n",
       "    }\n",
       "</style>\n",
       "<table border=\"1\" class=\"dataframe\">\n",
       "  <thead>\n",
       "    <tr style=\"text-align: right;\">\n",
       "      <th></th>\n",
       "      <th>0</th>\n",
       "      <th>1</th>\n",
       "    </tr>\n",
       "  </thead>\n",
       "  <tbody>\n",
       "    <tr>\n",
       "      <th>0</th>\n",
       "      <td>3973</td>\n",
       "      <td>709</td>\n",
       "    </tr>\n",
       "    <tr>\n",
       "      <th>1</th>\n",
       "      <td>275</td>\n",
       "      <td>705</td>\n",
       "    </tr>\n",
       "  </tbody>\n",
       "</table>\n",
       "</div>"
      ],
      "text/plain": [
       "      0    1\n",
       "0  3973  709\n",
       "1   275  705"
      ]
     },
     "execution_count": 70,
     "metadata": {},
     "output_type": "execute_result"
    }
   ],
   "source": [
    "#create the classifier\n",
    "clf = RandomForestClassifier(n_estimators = 16, max_depth = 7, random_state = 42,\n",
    "                            class_weight = 'balanced')\n",
    "\n",
    "#fit classifier to training set (with all defaults)\n",
    "clf = clf.fit(X_train, y_train)\n",
    "\n",
    "#run prediction on test set\n",
    "prd = clf.predict(X_test)\n",
    "\n",
    "#check recall\n",
    "print('Recall score:', recall_score(y_true = y_test, y_pred = prd))\n",
    "\n",
    "#show confusion matrix\n",
    "pd.DataFrame(confusion_matrix(y_true = y_test, y_pred = prd))"
   ]
  },
  {
   "cell_type": "code",
   "execution_count": 71,
   "metadata": {
    "scrolled": false
   },
   "outputs": [
    {
     "data": {
      "text/html": [
       "<div>\n",
       "<style scoped>\n",
       "    .dataframe tbody tr th:only-of-type {\n",
       "        vertical-align: middle;\n",
       "    }\n",
       "\n",
       "    .dataframe tbody tr th {\n",
       "        vertical-align: top;\n",
       "    }\n",
       "\n",
       "    .dataframe thead th {\n",
       "        text-align: right;\n",
       "    }\n",
       "</style>\n",
       "<table border=\"1\" class=\"dataframe\">\n",
       "  <thead>\n",
       "    <tr style=\"text-align: right;\">\n",
       "      <th></th>\n",
       "      <th>feature</th>\n",
       "      <th>score</th>\n",
       "    </tr>\n",
       "  </thead>\n",
       "  <tbody>\n",
       "    <tr>\n",
       "      <th>14</th>\n",
       "      <td>PIF_8</td>\n",
       "      <td>0.273711</td>\n",
       "    </tr>\n",
       "    <tr>\n",
       "      <th>8</th>\n",
       "      <td>PAY_9</td>\n",
       "      <td>0.225856</td>\n",
       "    </tr>\n",
       "    <tr>\n",
       "      <th>9</th>\n",
       "      <td>PAY_8</td>\n",
       "      <td>0.108314</td>\n",
       "    </tr>\n",
       "    <tr>\n",
       "      <th>10</th>\n",
       "      <td>PAY_7</td>\n",
       "      <td>0.076283</td>\n",
       "    </tr>\n",
       "    <tr>\n",
       "      <th>11</th>\n",
       "      <td>PAY_6</td>\n",
       "      <td>0.067449</td>\n",
       "    </tr>\n",
       "    <tr>\n",
       "      <th>0</th>\n",
       "      <td>LIMIT_BAL</td>\n",
       "      <td>0.055806</td>\n",
       "    </tr>\n",
       "    <tr>\n",
       "      <th>12</th>\n",
       "      <td>PAY_5</td>\n",
       "      <td>0.045125</td>\n",
       "    </tr>\n",
       "    <tr>\n",
       "      <th>15</th>\n",
       "      <td>PIF_7</td>\n",
       "      <td>0.044115</td>\n",
       "    </tr>\n",
       "    <tr>\n",
       "      <th>17</th>\n",
       "      <td>PIF_5</td>\n",
       "      <td>0.028379</td>\n",
       "    </tr>\n",
       "    <tr>\n",
       "      <th>13</th>\n",
       "      <td>PAY_4</td>\n",
       "      <td>0.025130</td>\n",
       "    </tr>\n",
       "    <tr>\n",
       "      <th>16</th>\n",
       "      <td>PIF_6</td>\n",
       "      <td>0.021164</td>\n",
       "    </tr>\n",
       "    <tr>\n",
       "      <th>18</th>\n",
       "      <td>PIF_4</td>\n",
       "      <td>0.009774</td>\n",
       "    </tr>\n",
       "    <tr>\n",
       "      <th>7</th>\n",
       "      <td>AGE</td>\n",
       "      <td>0.006657</td>\n",
       "    </tr>\n",
       "    <tr>\n",
       "      <th>2</th>\n",
       "      <td>GRADUATE_SCHOOL</td>\n",
       "      <td>0.003303</td>\n",
       "    </tr>\n",
       "    <tr>\n",
       "      <th>1</th>\n",
       "      <td>SEX</td>\n",
       "      <td>0.002296</td>\n",
       "    </tr>\n",
       "    <tr>\n",
       "      <th>3</th>\n",
       "      <td>UNIVERSITY</td>\n",
       "      <td>0.001859</td>\n",
       "    </tr>\n",
       "    <tr>\n",
       "      <th>6</th>\n",
       "      <td>SINGLE</td>\n",
       "      <td>0.001832</td>\n",
       "    </tr>\n",
       "    <tr>\n",
       "      <th>5</th>\n",
       "      <td>MARRIED</td>\n",
       "      <td>0.001518</td>\n",
       "    </tr>\n",
       "    <tr>\n",
       "      <th>4</th>\n",
       "      <td>HIGH_SCHOOL</td>\n",
       "      <td>0.001428</td>\n",
       "    </tr>\n",
       "  </tbody>\n",
       "</table>\n",
       "</div>"
      ],
      "text/plain": [
       "            feature     score\n",
       "14            PIF_8  0.273711\n",
       "8             PAY_9  0.225856\n",
       "9             PAY_8  0.108314\n",
       "10            PAY_7  0.076283\n",
       "11            PAY_6  0.067449\n",
       "0         LIMIT_BAL  0.055806\n",
       "12            PAY_5  0.045125\n",
       "15            PIF_7  0.044115\n",
       "17            PIF_5  0.028379\n",
       "13            PAY_4  0.025130\n",
       "16            PIF_6  0.021164\n",
       "18            PIF_4  0.009774\n",
       "7               AGE  0.006657\n",
       "2   GRADUATE_SCHOOL  0.003303\n",
       "1               SEX  0.002296\n",
       "3        UNIVERSITY  0.001859\n",
       "6            SINGLE  0.001832\n",
       "5           MARRIED  0.001518\n",
       "4       HIGH_SCHOOL  0.001428"
      ]
     },
     "execution_count": 71,
     "metadata": {},
     "output_type": "execute_result"
    }
   ],
   "source": [
    "imp = clf.feature_importances_.tolist()\n",
    "imp_df = pd.DataFrame({'feature': features, 'score': imp})\n",
    "imp_df.sort_values(by='score', ascending = False)"
   ]
  }
 ],
 "metadata": {
  "kernelspec": {
   "display_name": "Python 3",
   "language": "python",
   "name": "python3"
  },
  "language_info": {
   "codemirror_mode": {
    "name": "ipython",
    "version": 3
   },
   "file_extension": ".py",
   "mimetype": "text/x-python",
   "name": "python",
   "nbconvert_exporter": "python",
   "pygments_lexer": "ipython3",
   "version": "3.6.7"
  }
 },
 "nbformat": 4,
 "nbformat_minor": 2
}
